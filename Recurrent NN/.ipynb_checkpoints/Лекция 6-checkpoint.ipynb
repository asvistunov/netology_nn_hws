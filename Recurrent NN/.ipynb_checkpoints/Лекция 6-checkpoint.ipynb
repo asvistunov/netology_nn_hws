{
 "cells": [
  {
   "cell_type": "code",
   "execution_count": 1,
   "metadata": {
    "ExecuteTime": {
     "end_time": "2020-03-12T15:11:51.143288Z",
     "start_time": "2020-03-12T15:11:49.649354Z"
    }
   },
   "outputs": [],
   "source": [
    "import pandas as pd\n",
    "import time\n",
    "import torch"
   ]
  },
  {
   "cell_type": "markdown",
   "metadata": {},
   "source": [
    "## Загрузка данных"
   ]
  },
  {
   "cell_type": "code",
   "execution_count": 2,
   "metadata": {
    "ExecuteTime": {
     "end_time": "2020-03-12T15:12:00.685533Z",
     "start_time": "2020-03-12T15:12:00.591616Z"
    }
   },
   "outputs": [
    {
     "data": {
      "text/html": [
       "<div>\n",
       "<style scoped>\n",
       "    .dataframe tbody tr th:only-of-type {\n",
       "        vertical-align: middle;\n",
       "    }\n",
       "\n",
       "    .dataframe tbody tr th {\n",
       "        vertical-align: top;\n",
       "    }\n",
       "\n",
       "    .dataframe thead th {\n",
       "        text-align: right;\n",
       "    }\n",
       "</style>\n",
       "<table border=\"1\" class=\"dataframe\">\n",
       "  <thead>\n",
       "    <tr style=\"text-align: right;\">\n",
       "      <th></th>\n",
       "      <th>Unnamed: 0</th>\n",
       "      <th>id</th>\n",
       "      <th>episode_id</th>\n",
       "      <th>number</th>\n",
       "      <th>raw_text</th>\n",
       "      <th>timestamp_in_ms</th>\n",
       "      <th>speaking_line</th>\n",
       "      <th>character_id</th>\n",
       "      <th>location_id</th>\n",
       "      <th>raw_character_text</th>\n",
       "      <th>raw_location_text</th>\n",
       "      <th>spoken_words</th>\n",
       "      <th>normalized_text</th>\n",
       "      <th>word_count</th>\n",
       "    </tr>\n",
       "  </thead>\n",
       "  <tbody>\n",
       "    <tr>\n",
       "      <th>0</th>\n",
       "      <td>0</td>\n",
       "      <td>10368</td>\n",
       "      <td>35</td>\n",
       "      <td>29</td>\n",
       "      <td>Lisa Simpson: Maggie, look. What's that?</td>\n",
       "      <td>235000</td>\n",
       "      <td>True</td>\n",
       "      <td>9</td>\n",
       "      <td>5.0</td>\n",
       "      <td>Lisa Simpson</td>\n",
       "      <td>Simpson Home</td>\n",
       "      <td>Maggie, look. What's that?</td>\n",
       "      <td>maggie look whats that</td>\n",
       "      <td>4.0</td>\n",
       "    </tr>\n",
       "    <tr>\n",
       "      <th>1</th>\n",
       "      <td>1</td>\n",
       "      <td>10369</td>\n",
       "      <td>35</td>\n",
       "      <td>30</td>\n",
       "      <td>Lisa Simpson: Lee-mur. Lee-mur.</td>\n",
       "      <td>237000</td>\n",
       "      <td>True</td>\n",
       "      <td>9</td>\n",
       "      <td>5.0</td>\n",
       "      <td>Lisa Simpson</td>\n",
       "      <td>Simpson Home</td>\n",
       "      <td>Lee-mur. Lee-mur.</td>\n",
       "      <td>lee-mur lee-mur</td>\n",
       "      <td>2.0</td>\n",
       "    </tr>\n",
       "    <tr>\n",
       "      <th>2</th>\n",
       "      <td>2</td>\n",
       "      <td>10370</td>\n",
       "      <td>35</td>\n",
       "      <td>31</td>\n",
       "      <td>Lisa Simpson: Zee-boo. Zee-boo.</td>\n",
       "      <td>239000</td>\n",
       "      <td>True</td>\n",
       "      <td>9</td>\n",
       "      <td>5.0</td>\n",
       "      <td>Lisa Simpson</td>\n",
       "      <td>Simpson Home</td>\n",
       "      <td>Zee-boo. Zee-boo.</td>\n",
       "      <td>zee-boo zee-boo</td>\n",
       "      <td>2.0</td>\n",
       "    </tr>\n",
       "    <tr>\n",
       "      <th>3</th>\n",
       "      <td>3</td>\n",
       "      <td>10372</td>\n",
       "      <td>35</td>\n",
       "      <td>33</td>\n",
       "      <td>Lisa Simpson: I'm trying to teach Maggie that ...</td>\n",
       "      <td>245000</td>\n",
       "      <td>True</td>\n",
       "      <td>9</td>\n",
       "      <td>5.0</td>\n",
       "      <td>Lisa Simpson</td>\n",
       "      <td>Simpson Home</td>\n",
       "      <td>I'm trying to teach Maggie that nature doesn't...</td>\n",
       "      <td>im trying to teach maggie that nature doesnt e...</td>\n",
       "      <td>24.0</td>\n",
       "    </tr>\n",
       "    <tr>\n",
       "      <th>4</th>\n",
       "      <td>4</td>\n",
       "      <td>10374</td>\n",
       "      <td>35</td>\n",
       "      <td>35</td>\n",
       "      <td>Lisa Simpson: It's like an ox, only it has a h...</td>\n",
       "      <td>254000</td>\n",
       "      <td>True</td>\n",
       "      <td>9</td>\n",
       "      <td>5.0</td>\n",
       "      <td>Lisa Simpson</td>\n",
       "      <td>Simpson Home</td>\n",
       "      <td>It's like an ox, only it has a hump and a dewl...</td>\n",
       "      <td>its like an ox only it has a hump and a dewlap...</td>\n",
       "      <td>18.0</td>\n",
       "    </tr>\n",
       "  </tbody>\n",
       "</table>\n",
       "</div>"
      ],
      "text/plain": [
       "   Unnamed: 0     id  episode_id  number  \\\n",
       "0           0  10368          35      29   \n",
       "1           1  10369          35      30   \n",
       "2           2  10370          35      31   \n",
       "3           3  10372          35      33   \n",
       "4           4  10374          35      35   \n",
       "\n",
       "                                            raw_text  timestamp_in_ms  \\\n",
       "0           Lisa Simpson: Maggie, look. What's that?           235000   \n",
       "1                    Lisa Simpson: Lee-mur. Lee-mur.           237000   \n",
       "2                    Lisa Simpson: Zee-boo. Zee-boo.           239000   \n",
       "3  Lisa Simpson: I'm trying to teach Maggie that ...           245000   \n",
       "4  Lisa Simpson: It's like an ox, only it has a h...           254000   \n",
       "\n",
       "   speaking_line  character_id  location_id raw_character_text  \\\n",
       "0           True             9          5.0       Lisa Simpson   \n",
       "1           True             9          5.0       Lisa Simpson   \n",
       "2           True             9          5.0       Lisa Simpson   \n",
       "3           True             9          5.0       Lisa Simpson   \n",
       "4           True             9          5.0       Lisa Simpson   \n",
       "\n",
       "  raw_location_text                                       spoken_words  \\\n",
       "0      Simpson Home                         Maggie, look. What's that?   \n",
       "1      Simpson Home                                  Lee-mur. Lee-mur.   \n",
       "2      Simpson Home                                  Zee-boo. Zee-boo.   \n",
       "3      Simpson Home  I'm trying to teach Maggie that nature doesn't...   \n",
       "4      Simpson Home  It's like an ox, only it has a hump and a dewl...   \n",
       "\n",
       "                                     normalized_text  word_count  \n",
       "0                             maggie look whats that         4.0  \n",
       "1                                    lee-mur lee-mur         2.0  \n",
       "2                                    zee-boo zee-boo         2.0  \n",
       "3  im trying to teach maggie that nature doesnt e...        24.0  \n",
       "4  its like an ox only it has a hump and a dewlap...        18.0  "
      ]
     },
     "execution_count": 2,
     "metadata": {},
     "output_type": "execute_result"
    }
   ],
   "source": [
    "df = pd.read_csv('data.csv')\n",
    "df.head()"
   ]
  },
  {
   "cell_type": "code",
   "execution_count": 3,
   "metadata": {
    "ExecuteTime": {
     "end_time": "2020-03-12T15:12:15.820742Z",
     "start_time": "2020-03-12T15:12:15.809523Z"
    }
   },
   "outputs": [
    {
     "data": {
      "text/plain": [
       "['maggie look whats that',\n",
       " 'lee-mur lee-mur',\n",
       " 'zee-boo zee-boo',\n",
       " 'im trying to teach maggie that nature doesnt end with the barnyard i want her to have all the advantages that i didnt have',\n",
       " 'its like an ox only it has a hump and a dewlap hump and dew-lap hump and dew-lap',\n",
       " 'you know his blood type how romantic',\n",
       " 'oh yeah whats my shoe size',\n",
       " 'ring',\n",
       " 'yes dad',\n",
       " 'ooh look maggie what is that do-dec-ah-edron dodecahedron']"
      ]
     },
     "execution_count": 3,
     "metadata": {},
     "output_type": "execute_result"
    }
   ],
   "source": [
    "phrases = df['normalized_text'].tolist()\n",
    "phrases[:10]"
   ]
  },
  {
   "cell_type": "code",
   "execution_count": 4,
   "metadata": {
    "ExecuteTime": {
     "end_time": "2020-03-12T15:12:32.809563Z",
     "start_time": "2020-03-12T15:12:32.768140Z"
    }
   },
   "outputs": [],
   "source": [
    "text = [[c for c in ph] for ph in phrases if type(ph) is str]"
   ]
  },
  {
   "cell_type": "markdown",
   "metadata": {},
   "source": [
    "## Делаем массив с данными"
   ]
  },
  {
   "cell_type": "code",
   "execution_count": 5,
   "metadata": {
    "ExecuteTime": {
     "end_time": "2020-03-12T15:12:53.641351Z",
     "start_time": "2020-03-12T15:12:53.636757Z"
    }
   },
   "outputs": [],
   "source": [
    "CHARS = set('abcdefghijklmnopqrstuvwxyz ')\n",
    "INDEX_TO_CHAR = ['none'] + [w for w in CHARS]\n",
    "CHAR_TO_INDEX = {w: i for i, w in enumerate(INDEX_TO_CHAR)}"
   ]
  },
  {
   "cell_type": "code",
   "execution_count": 6,
   "metadata": {
    "ExecuteTime": {
     "end_time": "2020-03-12T15:13:58.918002Z",
     "start_time": "2020-03-12T15:13:55.602551Z"
    }
   },
   "outputs": [],
   "source": [
    "MAX_LEN = 50\n",
    "X = torch.zeros((len(text), MAX_LEN), dtype=int)\n",
    "for i in range(len(text)):\n",
    "    for j, w in enumerate(text[i]):\n",
    "        if j >= MAX_LEN:\n",
    "            break\n",
    "        X[i, j] = CHAR_TO_INDEX.get(w, CHAR_TO_INDEX['none'])"
   ]
  },
  {
   "cell_type": "code",
   "execution_count": 8,
   "metadata": {
    "ExecuteTime": {
     "end_time": "2020-03-12T15:14:24.776980Z",
     "start_time": "2020-03-12T15:14:24.761649Z"
    },
    "scrolled": true
   },
   "outputs": [
    {
     "data": {
      "text/plain": [
       "tensor([[ 8, 14,  9,  9, 20,  1, 17, 27, 16, 16, 18, 17, 24,  6, 14, 10,  7, 17,\n",
       "         10,  6, 14, 10,  0,  0,  0,  0,  0,  0,  0,  0,  0,  0,  0,  0,  0,  0,\n",
       "          0,  0,  0,  0,  0,  0,  0,  0,  0,  0,  0,  0,  0,  0],\n",
       "        [27,  1,  1,  0,  8, 13, 21, 17, 27,  1,  1,  0,  8, 13, 21,  0,  0,  0,\n",
       "          0,  0,  0,  0,  0,  0,  0,  0,  0,  0,  0,  0,  0,  0,  0,  0,  0,  0,\n",
       "          0,  0,  0,  0,  0,  0,  0,  0,  0,  0,  0,  0,  0,  0],\n",
       "        [19,  1,  1,  0, 15, 16, 16, 17, 19,  1,  1,  0, 15, 16, 16,  0,  0,  0,\n",
       "          0,  0,  0,  0,  0,  0,  0,  0,  0,  0,  0,  0,  0,  0,  0,  0,  0,  0,\n",
       "          0,  0,  0,  0,  0,  0,  0,  0,  0,  0,  0,  0,  0,  0],\n",
       "        [20,  8, 17, 10, 21,  5, 20, 25,  9, 17, 10, 16, 17, 10,  1, 14, 26,  6,\n",
       "         17,  8, 14,  9,  9, 20,  1, 17, 10,  6, 14, 10, 17, 25, 14, 10, 13, 21,\n",
       "          1, 17,  4, 16,  1,  7, 25, 10, 17,  1, 25,  4, 17, 24],\n",
       "        [20, 10,  7, 17, 27, 20, 18,  1, 17, 14, 25, 17, 16, 12, 17, 16, 25, 27,\n",
       "          5, 17, 20, 10, 17,  6, 14,  7, 17, 14, 17,  6, 13,  8, 23, 17, 14, 25,\n",
       "          4, 17, 14, 17,  4,  1, 24, 27, 14, 23, 17,  6, 13,  8],\n",
       "        [ 5, 16, 13, 17, 18, 25, 16, 24, 17,  6, 20,  7, 17, 15, 27, 16, 16,  4,\n",
       "         17, 10,  5, 23,  1, 17,  6, 16, 24, 17, 21, 16,  8, 14, 25, 10, 20, 26,\n",
       "          0,  0,  0,  0,  0,  0,  0,  0,  0,  0,  0,  0,  0,  0],\n",
       "        [16,  6, 17,  5,  1, 14,  6, 17, 24,  6, 14, 10,  7, 17,  8,  5, 17,  7,\n",
       "          6, 16,  1, 17,  7, 20, 19,  1,  0,  0,  0,  0,  0,  0,  0,  0,  0,  0,\n",
       "          0,  0,  0,  0,  0,  0,  0,  0,  0,  0,  0,  0,  0,  0],\n",
       "        [21, 20, 25,  9,  0,  0,  0,  0,  0,  0,  0,  0,  0,  0,  0,  0,  0,  0,\n",
       "          0,  0,  0,  0,  0,  0,  0,  0,  0,  0,  0,  0,  0,  0,  0,  0,  0,  0,\n",
       "          0,  0,  0,  0,  0,  0,  0,  0,  0,  0,  0,  0,  0,  0],\n",
       "        [ 5,  1,  7, 17,  4, 14,  4,  0,  0,  0,  0,  0,  0,  0,  0,  0,  0,  0,\n",
       "          0,  0,  0,  0,  0,  0,  0,  0,  0,  0,  0,  0,  0,  0,  0,  0,  0,  0,\n",
       "          0,  0,  0,  0,  0,  0,  0,  0,  0,  0,  0,  0,  0,  0],\n",
       "        [16, 16,  6, 17, 27, 16, 16, 18, 17,  8, 14,  9,  9, 20,  1, 17, 24,  6,\n",
       "         14, 10, 17, 20,  7, 17, 10,  6, 14, 10, 17,  4, 16,  0,  4,  1, 26,  0,\n",
       "         14,  6,  0,  1,  4, 21, 16, 25, 17,  4, 16,  4,  1, 26]])"
      ]
     },
     "execution_count": 8,
     "metadata": {},
     "output_type": "execute_result"
    }
   ],
   "source": [
    "X[0:10]"
   ]
  },
  {
   "cell_type": "markdown",
   "metadata": {},
   "source": [
    "## Смотрим на Embedding и RNN ячейку"
   ]
  },
  {
   "cell_type": "code",
   "execution_count": 7,
   "metadata": {
    "ExecuteTime": {
     "end_time": "2020-03-12T15:14:15.694973Z",
     "start_time": "2020-03-12T15:14:15.644024Z"
    }
   },
   "outputs": [
    {
     "data": {
      "text/plain": [
       "tensor([[[ 1.6426,  0.4222, -0.3004,  ...,  0.3787, -2.8811,  0.8886],\n",
       "         [ 0.8053,  1.0491,  0.1026,  ...,  0.9171, -0.7539,  0.2041],\n",
       "         [ 0.0824,  0.4562,  0.7836,  ...,  0.8592,  0.8477, -0.1967],\n",
       "         ...,\n",
       "         [ 3.0970,  0.1789,  0.6666,  ..., -1.2510, -0.4652,  0.5277],\n",
       "         [ 3.0970,  0.1789,  0.6666,  ..., -1.2510, -0.4652,  0.5277],\n",
       "         [ 3.0970,  0.1789,  0.6666,  ..., -1.2510, -0.4652,  0.5277]],\n",
       "\n",
       "        [[ 0.2517, -1.1590,  0.9036,  ..., -0.1095, -0.1882,  2.1065],\n",
       "         [ 1.2797,  1.1544,  1.2730,  ..., -1.2380, -0.9292,  2.0385],\n",
       "         [ 1.2797,  1.1544,  1.2730,  ..., -1.2380, -0.9292,  2.0385],\n",
       "         ...,\n",
       "         [ 3.0970,  0.1789,  0.6666,  ..., -1.2510, -0.4652,  0.5277],\n",
       "         [ 3.0970,  0.1789,  0.6666,  ..., -1.2510, -0.4652,  0.5277],\n",
       "         [ 3.0970,  0.1789,  0.6666,  ..., -1.2510, -0.4652,  0.5277]],\n",
       "\n",
       "        [[ 2.1651,  0.2328, -1.4108,  ...,  0.3651, -1.0410, -0.1144],\n",
       "         [ 1.2797,  1.1544,  1.2730,  ..., -1.2380, -0.9292,  2.0385],\n",
       "         [ 1.2797,  1.1544,  1.2730,  ..., -1.2380, -0.9292,  2.0385],\n",
       "         ...,\n",
       "         [ 3.0970,  0.1789,  0.6666,  ..., -1.2510, -0.4652,  0.5277],\n",
       "         [ 3.0970,  0.1789,  0.6666,  ..., -1.2510, -0.4652,  0.5277],\n",
       "         [ 3.0970,  0.1789,  0.6666,  ..., -1.2510, -0.4652,  0.5277]],\n",
       "\n",
       "        ...,\n",
       "\n",
       "        [[-0.3302, -0.4881,  1.6459,  ..., -1.4018, -0.7781, -0.9879],\n",
       "         [ 0.7911, -0.2473, -0.0836,  ..., -0.7444,  1.2753, -1.0644],\n",
       "         [-1.6820, -0.0962, -0.0489,  ...,  1.1936, -1.2137, -1.4025],\n",
       "         ...,\n",
       "         [ 3.0970,  0.1789,  0.6666,  ..., -1.2510, -0.4652,  0.5277],\n",
       "         [ 3.0970,  0.1789,  0.6666,  ..., -1.2510, -0.4652,  0.5277],\n",
       "         [ 3.0970,  0.1789,  0.6666,  ..., -1.2510, -0.4652,  0.5277]],\n",
       "\n",
       "        [[-0.2271, -0.8190,  0.6868,  ...,  0.9655,  0.3865, -0.4732],\n",
       "         [ 1.2797,  1.1544,  1.2730,  ..., -1.2380, -0.9292,  2.0385],\n",
       "         [ 1.1928, -0.0225,  0.3296,  ...,  0.9212,  0.5645,  0.1504],\n",
       "         ...,\n",
       "         [ 3.0970,  0.1789,  0.6666,  ..., -1.2510, -0.4652,  0.5277],\n",
       "         [ 3.0970,  0.1789,  0.6666,  ..., -1.2510, -0.4652,  0.5277],\n",
       "         [ 3.0970,  0.1789,  0.6666,  ..., -1.2510, -0.4652,  0.5277]],\n",
       "\n",
       "        [[-0.4905, -0.3969, -0.5288,  ..., -0.0723,  0.6591,  0.0415],\n",
       "         [-0.4905, -0.3969, -0.5288,  ..., -0.0723,  0.6591,  0.0415],\n",
       "         [-1.3002, -1.1802, -0.1300,  ...,  0.6274, -0.1867,  0.2134],\n",
       "         ...,\n",
       "         [-0.1448, -0.4679, -0.4629,  ...,  0.0848,  1.5865,  0.3381],\n",
       "         [ 1.2797,  1.1544,  1.2730,  ..., -1.2380, -0.9292,  2.0385],\n",
       "         [ 1.2635, -0.0888,  0.9796,  ...,  1.6486, -1.5723,  1.4222]]],\n",
       "       grad_fn=<EmbeddingBackward>)"
      ]
     },
     "execution_count": 7,
     "metadata": {},
     "output_type": "execute_result"
    }
   ],
   "source": [
    "embeddings = torch.nn.Embedding(len(INDEX_TO_CHAR), 28)\n",
    "t = embeddings(X[0:10])\n",
    "t"
   ]
  },
  {
   "cell_type": "code",
   "execution_count": 10,
   "metadata": {
    "ExecuteTime": {
     "end_time": "2020-03-12T15:14:48.405046Z",
     "start_time": "2020-03-12T15:14:48.400041Z"
    }
   },
   "outputs": [
    {
     "data": {
      "text/plain": [
       "(torch.Size([10, 50, 28]), torch.Size([10, 50]))"
      ]
     },
     "execution_count": 10,
     "metadata": {},
     "output_type": "execute_result"
    }
   ],
   "source": [
    "t.shape, X[0:10].shape"
   ]
  },
  {
   "cell_type": "code",
   "execution_count": 28,
   "metadata": {
    "ExecuteTime": {
     "end_time": "2020-03-12T15:18:23.190978Z",
     "start_time": "2020-03-12T15:18:23.180493Z"
    }
   },
   "outputs": [
    {
     "data": {
      "text/plain": [
       "(torch.Size([10, 50, 128]), torch.Size([1, 10, 128]))"
      ]
     },
     "execution_count": 28,
     "metadata": {},
     "output_type": "execute_result"
    }
   ],
   "source": [
    "rnn = torch.nn.RNN(28, 128, batch_first=True)\n",
    "o, s = rnn(t)\n",
    "o.shape, s.shape"
   ]
  },
  {
   "cell_type": "code",
   "execution_count": 29,
   "metadata": {
    "ExecuteTime": {
     "end_time": "2020-03-12T15:18:35.190131Z",
     "start_time": "2020-03-12T15:18:35.180708Z"
    }
   },
   "outputs": [
    {
     "data": {
      "text/plain": [
       "(torch.Size([10, 50, 128]), torch.Size([1, 10, 128]))"
      ]
     },
     "execution_count": 29,
     "metadata": {},
     "output_type": "execute_result"
    }
   ],
   "source": [
    "o, s2 = rnn(t, s)\n",
    "o.shape, s2.shape"
   ]
  },
  {
   "cell_type": "markdown",
   "metadata": {},
   "source": [
    "## Практика. Реализуйте код модели нейронной сети\n",
    "3 слоя - embeding (28), скрытая ячейка (128), полносвязанный из состояния rnn в букву (28)"
   ]
  },
  {
   "cell_type": "code",
   "execution_count": 39,
   "metadata": {
    "ExecuteTime": {
     "end_time": "2020-03-12T15:26:45.716418Z",
     "start_time": "2020-03-12T15:26:45.710937Z"
    }
   },
   "outputs": [
    {
     "ename": "SyntaxError",
     "evalue": "unexpected EOF while parsing (<ipython-input-39-43ab1876305c>, line 7)",
     "output_type": "error",
     "traceback": [
      "\u001b[0;36m  File \u001b[0;32m\"<ipython-input-39-43ab1876305c>\"\u001b[0;36m, line \u001b[0;32m7\u001b[0m\n\u001b[0;31m    ## Здесь применить\u001b[0m\n\u001b[0m                      ^\u001b[0m\n\u001b[0;31mSyntaxError\u001b[0m\u001b[0;31m:\u001b[0m unexpected EOF while parsing\n"
     ]
    }
   ],
   "source": [
    "class Network(torch.nn.Module):\n",
    "    def __init__(self):\n",
    "        super(Network, self).__init__()\n",
    "        ## Здесь создать слои\n",
    "        \n",
    "    def forward(self, sentences, state=None):\n",
    "        ## Здесь применить"
   ]
  },
  {
   "cell_type": "code",
   "execution_count": 32,
   "metadata": {
    "ExecuteTime": {
     "end_time": "2020-03-12T15:20:53.260599Z",
     "start_time": "2020-03-12T15:20:53.256979Z"
    }
   },
   "outputs": [],
   "source": [
    "model = Network()"
   ]
  },
  {
   "cell_type": "code",
   "execution_count": 33,
   "metadata": {
    "ExecuteTime": {
     "end_time": "2020-03-12T15:21:01.929404Z",
     "start_time": "2020-03-12T15:21:01.925999Z"
    }
   },
   "outputs": [],
   "source": [
    "criterion = torch.nn.CrossEntropyLoss()\n",
    "optimizer = torch.optim.SGD(model.parameters(), lr=.05)"
   ]
  },
  {
   "cell_type": "code",
   "execution_count": 35,
   "metadata": {
    "ExecuteTime": {
     "end_time": "2020-03-12T15:22:04.410583Z",
     "start_time": "2020-03-12T15:21:34.734119Z"
    },
    "scrolled": true
   },
   "outputs": [
    {
     "name": "stdout",
     "output_type": "stream",
     "text": [
      "Epoch 0. Time: 2.759, Train loss: 1.718\n",
      "Epoch 1. Time: 2.738, Train loss: 1.680\n",
      "Epoch 2. Time: 2.721, Train loss: 1.651\n",
      "Epoch 3. Time: 2.733, Train loss: 1.628\n",
      "Epoch 4. Time: 2.942, Train loss: 1.609\n",
      "Epoch 5. Time: 2.897, Train loss: 1.593\n",
      "Epoch 6. Time: 3.366, Train loss: 1.578\n",
      "Epoch 7. Time: 3.656, Train loss: 1.564\n",
      "Epoch 8. Time: 2.883, Train loss: 1.552\n",
      "Epoch 9. Time: 2.974, Train loss: 1.540\n"
     ]
    }
   ],
   "source": [
    "for ep in range(10):\n",
    "    start = time.time()\n",
    "    train_loss = 0.\n",
    "    train_passed = 0\n",
    "\n",
    "    for i in range(int(len(X) / 100)):\n",
    "        batch = X[i * 100:(i + 1) * 100]\n",
    "        X_batch = batch[:, :-1]\n",
    "        Y_batch = batch[:, 1:].flatten()\n",
    "\n",
    "        optimizer.zero_grad()\n",
    "        answers, _ = model.forward(X_batch)\n",
    "        answers = answers.view(-1, len(INDEX_TO_CHAR))\n",
    "        loss = criterion(answers, Y_batch)\n",
    "        train_loss += loss.item()\n",
    "\n",
    "        loss.backward()\n",
    "        optimizer.step()\n",
    "        train_passed += 1\n",
    "\n",
    "    print(\"Epoch {}. Time: {:.3f}, Train loss: {:.3f}\".format(ep, time.time() - start, train_loss / train_passed))"
   ]
  },
  {
   "cell_type": "markdown",
   "metadata": {
    "ExecuteTime": {
     "end_time": "2020-03-12T15:28:40.363097Z",
     "start_time": "2020-03-12T15:28:40.357998Z"
    }
   },
   "source": [
    "## Практика. Реализуйте код генерации следующей буквы на основе модели\n",
    "Логика такая:\n",
    "    - Сначала кормим в нее буквы из sentence (прогревая состояние)\n",
    "    - Затем пока не получим none (0) берем самую вероятную букву и добавляем ее в sentence\n",
    "    - Повторяем"
   ]
  },
  {
   "cell_type": "code",
   "execution_count": 41,
   "metadata": {
    "ExecuteTime": {
     "end_time": "2020-03-12T15:28:59.592247Z",
     "start_time": "2020-03-12T15:28:59.589338Z"
    }
   },
   "outputs": [],
   "source": [
    "def generate_sentence():\n",
    "    sentence = ['h', 'e', 'l', 'l', 'o']\n",
    "    # Todo"
   ]
  },
  {
   "cell_type": "code",
   "execution_count": 37,
   "metadata": {
    "ExecuteTime": {
     "end_time": "2020-03-12T15:22:28.324297Z",
     "start_time": "2020-03-12T15:22:28.291209Z"
    }
   },
   "outputs": [
    {
     "name": "stdout",
     "output_type": "stream",
     "text": [
      "helloe l   toaaohutd     toooohun     toooohun     tooo\n"
     ]
    }
   ],
   "source": [
    "generate_sentence()"
   ]
  },
  {
   "cell_type": "code",
   "execution_count": 38,
   "metadata": {
    "ExecuteTime": {
     "end_time": "2020-03-12T15:23:13.963511Z",
     "start_time": "2020-03-12T15:22:45.311457Z"
    }
   },
   "outputs": [
    {
     "name": "stdout",
     "output_type": "stream",
     "text": [
      "Epoch 0. Time: 2.762, Train loss: 1.530\n",
      "helloe l   toaaohutd     toooohun     toooohun     tooo\n",
      "Epoch 1. Time: 2.736, Train loss: 1.519\n",
      "helloe l   toaaohutd     toooohun     toooohun     tooo\n",
      "Epoch 2. Time: 2.729, Train loss: 1.509\n",
      "helloe l n toooah n   toaoooutn     toooohun     tooooh\n",
      "Epoch 3. Time: 2.761, Train loss: 1.500\n",
      "helloe l n toooah n   toaoooutn     toooohun     tooooh\n",
      "Epoch 4. Time: 2.746, Train loss: 1.491\n",
      "helloe l n toooth n  etoaoahnnn     toooohun     tooooh\n",
      "Epoch 5. Time: 2.932, Train loss: 1.483\n",
      "helloe l n toooth n  etoaoahnnn     toooohun     tooooh\n",
      "Epoch 6. Time: 2.804, Train loss: 1.475\n",
      "helloe l n toooth n  etoaoahnnn     tooooounn     toooo\n",
      "Epoch 7. Time: 2.790, Train loss: 1.467\n",
      "helloe l n toooth n  etoaoahnnn     tooooounn     toooo\n",
      "Epoch 8. Time: 3.052, Train loss: 1.459\n",
      "helloe l n toooth n  etoaoahnnn     tooooornn     toooo\n",
      "Epoch 9. Time: 3.189, Train loss: 1.452\n",
      "helloe l n toooth nn eto tr ntheto e  ntraooaennnn     \n"
     ]
    }
   ],
   "source": [
    "for ep in range(10):\n",
    "    start = time.time()\n",
    "    train_loss = 0.\n",
    "    train_passed = 0\n",
    "\n",
    "    for i in range(int(len(X) / 100)):\n",
    "        batch = X[i * 100:(i + 1) * 100]\n",
    "        X_batch = batch[:, :-1]\n",
    "        Y_batch = batch[:, 1:].flatten()\n",
    "\n",
    "        optimizer.zero_grad()\n",
    "        answers, _ = model.forward(X_batch)\n",
    "        answers = answers.view(-1, len(INDEX_TO_CHAR))\n",
    "        loss = criterion(answers, Y_batch)\n",
    "        train_loss += loss.item()\n",
    "\n",
    "        loss.backward()\n",
    "        optimizer.step()\n",
    "        train_passed += 1\n",
    "\n",
    "    print(\"Epoch {}. Time: {:.3f}, Train loss: {:.3f}\".format(ep, time.time() - start, train_loss / train_passed))\n",
    "    generate_sentence()"
   ]
  },
  {
   "cell_type": "code",
   "execution_count": null,
   "metadata": {},
   "outputs": [],
   "source": []
  }
 ],
 "metadata": {
  "kernelspec": {
   "display_name": "Python 3",
   "language": "python",
   "name": "python3"
  },
  "language_info": {
   "codemirror_mode": {
    "name": "ipython",
    "version": 3
   },
   "file_extension": ".py",
   "mimetype": "text/x-python",
   "name": "python",
   "nbconvert_exporter": "python",
   "pygments_lexer": "ipython3",
   "version": "3.7.1"
  }
 },
 "nbformat": 4,
 "nbformat_minor": 2
}
