{
 "cells": [
  {
   "cell_type": "code",
   "execution_count": 1,
   "id": "2ee3d5c8-032d-4af4-bd22-879530d133d0",
   "metadata": {},
   "outputs": [],
   "source": [
    "import os\n",
    "import pandas as pd\n",
    "import torch\n",
    "from torch import nn \n",
    "import time\n",
    "import numpy as np "
   ]
  },
  {
   "cell_type": "code",
   "execution_count": 2,
   "id": "500b91da-ff61-465e-a8f3-313d403a6d89",
   "metadata": {},
   "outputs": [],
   "source": [
    "simpson_data = pd.read_csv('Data/data.csv').iloc[:, 1:]"
   ]
  },
  {
   "cell_type": "code",
   "execution_count": 3,
   "id": "a5f47223-97dc-4f00-b811-00c3d5f8fbaa",
   "metadata": {},
   "outputs": [
    {
     "data": {
      "text/html": [
       "<div>\n",
       "<style scoped>\n",
       "    .dataframe tbody tr th:only-of-type {\n",
       "        vertical-align: middle;\n",
       "    }\n",
       "\n",
       "    .dataframe tbody tr th {\n",
       "        vertical-align: top;\n",
       "    }\n",
       "\n",
       "    .dataframe thead th {\n",
       "        text-align: right;\n",
       "    }\n",
       "</style>\n",
       "<table border=\"1\" class=\"dataframe\">\n",
       "  <thead>\n",
       "    <tr style=\"text-align: right;\">\n",
       "      <th></th>\n",
       "      <th>id</th>\n",
       "      <th>episode_id</th>\n",
       "      <th>number</th>\n",
       "      <th>raw_text</th>\n",
       "      <th>timestamp_in_ms</th>\n",
       "      <th>speaking_line</th>\n",
       "      <th>character_id</th>\n",
       "      <th>location_id</th>\n",
       "      <th>raw_character_text</th>\n",
       "      <th>raw_location_text</th>\n",
       "      <th>spoken_words</th>\n",
       "      <th>normalized_text</th>\n",
       "      <th>word_count</th>\n",
       "    </tr>\n",
       "  </thead>\n",
       "  <tbody>\n",
       "    <tr>\n",
       "      <th>0</th>\n",
       "      <td>10368</td>\n",
       "      <td>35</td>\n",
       "      <td>29</td>\n",
       "      <td>Lisa Simpson: Maggie, look. What's that?</td>\n",
       "      <td>235000</td>\n",
       "      <td>True</td>\n",
       "      <td>9</td>\n",
       "      <td>5.0</td>\n",
       "      <td>Lisa Simpson</td>\n",
       "      <td>Simpson Home</td>\n",
       "      <td>Maggie, look. What's that?</td>\n",
       "      <td>maggie look whats that</td>\n",
       "      <td>4.0</td>\n",
       "    </tr>\n",
       "    <tr>\n",
       "      <th>1</th>\n",
       "      <td>10369</td>\n",
       "      <td>35</td>\n",
       "      <td>30</td>\n",
       "      <td>Lisa Simpson: Lee-mur. Lee-mur.</td>\n",
       "      <td>237000</td>\n",
       "      <td>True</td>\n",
       "      <td>9</td>\n",
       "      <td>5.0</td>\n",
       "      <td>Lisa Simpson</td>\n",
       "      <td>Simpson Home</td>\n",
       "      <td>Lee-mur. Lee-mur.</td>\n",
       "      <td>lee-mur lee-mur</td>\n",
       "      <td>2.0</td>\n",
       "    </tr>\n",
       "    <tr>\n",
       "      <th>2</th>\n",
       "      <td>10370</td>\n",
       "      <td>35</td>\n",
       "      <td>31</td>\n",
       "      <td>Lisa Simpson: Zee-boo. Zee-boo.</td>\n",
       "      <td>239000</td>\n",
       "      <td>True</td>\n",
       "      <td>9</td>\n",
       "      <td>5.0</td>\n",
       "      <td>Lisa Simpson</td>\n",
       "      <td>Simpson Home</td>\n",
       "      <td>Zee-boo. Zee-boo.</td>\n",
       "      <td>zee-boo zee-boo</td>\n",
       "      <td>2.0</td>\n",
       "    </tr>\n",
       "    <tr>\n",
       "      <th>3</th>\n",
       "      <td>10372</td>\n",
       "      <td>35</td>\n",
       "      <td>33</td>\n",
       "      <td>Lisa Simpson: I'm trying to teach Maggie that ...</td>\n",
       "      <td>245000</td>\n",
       "      <td>True</td>\n",
       "      <td>9</td>\n",
       "      <td>5.0</td>\n",
       "      <td>Lisa Simpson</td>\n",
       "      <td>Simpson Home</td>\n",
       "      <td>I'm trying to teach Maggie that nature doesn't...</td>\n",
       "      <td>im trying to teach maggie that nature doesnt e...</td>\n",
       "      <td>24.0</td>\n",
       "    </tr>\n",
       "    <tr>\n",
       "      <th>4</th>\n",
       "      <td>10374</td>\n",
       "      <td>35</td>\n",
       "      <td>35</td>\n",
       "      <td>Lisa Simpson: It's like an ox, only it has a h...</td>\n",
       "      <td>254000</td>\n",
       "      <td>True</td>\n",
       "      <td>9</td>\n",
       "      <td>5.0</td>\n",
       "      <td>Lisa Simpson</td>\n",
       "      <td>Simpson Home</td>\n",
       "      <td>It's like an ox, only it has a hump and a dewl...</td>\n",
       "      <td>its like an ox only it has a hump and a dewlap...</td>\n",
       "      <td>18.0</td>\n",
       "    </tr>\n",
       "  </tbody>\n",
       "</table>\n",
       "</div>"
      ],
      "text/plain": [
       "      id  episode_id  number  \\\n",
       "0  10368          35      29   \n",
       "1  10369          35      30   \n",
       "2  10370          35      31   \n",
       "3  10372          35      33   \n",
       "4  10374          35      35   \n",
       "\n",
       "                                            raw_text  timestamp_in_ms  \\\n",
       "0           Lisa Simpson: Maggie, look. What's that?           235000   \n",
       "1                    Lisa Simpson: Lee-mur. Lee-mur.           237000   \n",
       "2                    Lisa Simpson: Zee-boo. Zee-boo.           239000   \n",
       "3  Lisa Simpson: I'm trying to teach Maggie that ...           245000   \n",
       "4  Lisa Simpson: It's like an ox, only it has a h...           254000   \n",
       "\n",
       "   speaking_line  character_id  location_id raw_character_text  \\\n",
       "0           True             9          5.0       Lisa Simpson   \n",
       "1           True             9          5.0       Lisa Simpson   \n",
       "2           True             9          5.0       Lisa Simpson   \n",
       "3           True             9          5.0       Lisa Simpson   \n",
       "4           True             9          5.0       Lisa Simpson   \n",
       "\n",
       "  raw_location_text                                       spoken_words  \\\n",
       "0      Simpson Home                         Maggie, look. What's that?   \n",
       "1      Simpson Home                                  Lee-mur. Lee-mur.   \n",
       "2      Simpson Home                                  Zee-boo. Zee-boo.   \n",
       "3      Simpson Home  I'm trying to teach Maggie that nature doesn't...   \n",
       "4      Simpson Home  It's like an ox, only it has a hump and a dewl...   \n",
       "\n",
       "                                     normalized_text  word_count  \n",
       "0                             maggie look whats that         4.0  \n",
       "1                                    lee-mur lee-mur         2.0  \n",
       "2                                    zee-boo zee-boo         2.0  \n",
       "3  im trying to teach maggie that nature doesnt e...        24.0  \n",
       "4  its like an ox only it has a hump and a dewlap...        18.0  "
      ]
     },
     "execution_count": 3,
     "metadata": {},
     "output_type": "execute_result"
    }
   ],
   "source": [
    "simpson_data.head()"
   ]
  },
  {
   "cell_type": "code",
   "execution_count": 4,
   "id": "442252d0-e761-4f00-8de7-37004127665d",
   "metadata": {},
   "outputs": [],
   "source": [
    "phrases = simpson_data.loc[:, 'normalized_text'].to_list()"
   ]
  },
  {
   "cell_type": "code",
   "execution_count": 5,
   "id": "45f2c375-44f5-4d2a-bb12-c40b5ddc1874",
   "metadata": {
    "tags": []
   },
   "outputs": [
    {
     "data": {
      "text/plain": [
       "['maggie look whats that', 'lee-mur lee-mur', 'zee-boo zee-boo']"
      ]
     },
     "execution_count": 5,
     "metadata": {},
     "output_type": "execute_result"
    }
   ],
   "source": [
    "phrases[:3]"
   ]
  },
  {
   "cell_type": "code",
   "execution_count": 6,
   "id": "df0ccb71-ae16-43c7-9564-151042c3639d",
   "metadata": {},
   "outputs": [],
   "source": [
    "phrases_cleaned = [*filter(lambda el: isinstance(el, str), phrases)]"
   ]
  },
  {
   "cell_type": "code",
   "execution_count": 7,
   "id": "ceb4c7a4-1ba7-42d4-b168-2fd19064bc1c",
   "metadata": {},
   "outputs": [],
   "source": [
    "text = [[sym for sym in p] for p in phrases if isinstance(p, str)]"
   ]
  },
  {
   "cell_type": "code",
   "execution_count": 8,
   "id": "79f53837-7017-419c-a961-89cfb9ee7fea",
   "metadata": {},
   "outputs": [],
   "source": [
    "CHARS = sorted(set('abcdefghijklmnopqrstuvwxyz '))\n",
    "INDEX_TO_CHAR = ['none'] + [w for w in CHARS]\n",
    "CHAR_TO_INDEX = {i:w for w, i in enumerate(INDEX_TO_CHAR)}"
   ]
  },
  {
   "cell_type": "code",
   "execution_count": 9,
   "id": "8afba17a-9a66-4b63-b6e7-923e93a1e462",
   "metadata": {},
   "outputs": [],
   "source": [
    "alphabet = set('abcdefghijklmnopqrstuvwxyz')"
   ]
  },
  {
   "cell_type": "code",
   "execution_count": 10,
   "id": "e7524511-efa1-4f2b-8cd7-3e508fc0be29",
   "metadata": {},
   "outputs": [],
   "source": [
    "orig = np.array(sorted([*alphabet]))\n",
    "shifted = np.roll(orig, 13)"
   ]
  },
  {
   "cell_type": "code",
   "execution_count": 11,
   "id": "0899e47c-6a99-4ec3-b5d0-1b9e252a8a31",
   "metadata": {},
   "outputs": [
    {
     "data": {
      "text/plain": [
       "{'a': 'n',\n",
       " 'b': 'o',\n",
       " 'c': 'p',\n",
       " 'd': 'q',\n",
       " 'e': 'r',\n",
       " 'f': 's',\n",
       " 'g': 't',\n",
       " 'h': 'u',\n",
       " 'i': 'v',\n",
       " 'j': 'w',\n",
       " 'k': 'x',\n",
       " 'l': 'y',\n",
       " 'm': 'z',\n",
       " 'n': 'a',\n",
       " 'o': 'b',\n",
       " 'p': 'c',\n",
       " 'q': 'd',\n",
       " 'r': 'e',\n",
       " 's': 'f',\n",
       " 't': 'g',\n",
       " 'u': 'h',\n",
       " 'v': 'i',\n",
       " 'w': 'j',\n",
       " 'x': 'k',\n",
       " 'y': 'l',\n",
       " 'z': 'm'}"
      ]
     },
     "execution_count": 11,
     "metadata": {},
     "output_type": "execute_result"
    }
   ],
   "source": [
    "orig_shift = {l_or:l_sh for l_or, l_sh in zip(orig, shifted)}\n",
    "orig_shift"
   ]
  },
  {
   "cell_type": "code",
   "execution_count": 12,
   "id": "89bb896f-55f6-4fcf-a383-a56b49b7716c",
   "metadata": {},
   "outputs": [],
   "source": [
    "shifted_phrases = [''.join([orig_shift.get(i, ' ') for i in phrase]) for phrase in phrases_cleaned]"
   ]
  },
  {
   "cell_type": "code",
   "execution_count": 13,
   "id": "6c384ab4-f54b-4ba9-ac1c-945525f2307e",
   "metadata": {},
   "outputs": [
    {
     "data": {
      "text/plain": [
       "['znttvr ybbx jungf gung',\n",
       " 'yrr zhe yrr zhe',\n",
       " 'mrr obb mrr obb',\n",
       " 'vz gelvat gb grnpu znttvr gung angher qbrfag raq jvgu gur onealneq v jnag ure gb unir nyy gur nqinagntrf gung v qvqag unir',\n",
       " 'vgf yvxr na bk bayl vg unf n uhzc naq n qrjync uhzc naq qrj ync uhzc naq qrj ync',\n",
       " 'lbh xabj uvf oybbq glcr ubj ebznagvp',\n",
       " 'bu lrnu jungf zl fubr fvmr',\n",
       " 'evat',\n",
       " 'lrf qnq',\n",
       " 'bbu ybbx znttvr jung vf gung qb qrp nu rqeba qbqrpnurqeba']"
      ]
     },
     "execution_count": 13,
     "metadata": {},
     "output_type": "execute_result"
    }
   ],
   "source": [
    "shifted_phrases[:10]"
   ]
  },
  {
   "cell_type": "code",
   "execution_count": 14,
   "id": "dac76338-d233-4e16-a20b-c4314f88c955",
   "metadata": {},
   "outputs": [],
   "source": [
    "max_len = 50 \n",
    "Y = torch.zeros([len(phrases_cleaned), max_len], dtype=int)\n",
    "for i, sentence in enumerate(phrases_cleaned):\n",
    "    for j, num in enumerate([CHAR_TO_INDEX.get(letter, CHAR_TO_INDEX['none']) for letter in sentence[:50] if isinstance(letter, str)]):\n",
    "        Y[i, j] = num"
   ]
  },
  {
   "cell_type": "code",
   "execution_count": 15,
   "id": "7e1ebd84-6173-4b61-a258-119e9b2eaa57",
   "metadata": {},
   "outputs": [],
   "source": [
    "max_len = 50 \n",
    "X = torch.zeros([len(shifted_phrases), max_len], dtype=int)\n",
    "for i, sentence in enumerate(shifted_phrases):\n",
    "    for j, num in enumerate([CHAR_TO_INDEX.get(letter, CHAR_TO_INDEX['none']) for letter in sentence[:50] if isinstance(letter, str)]):\n",
    "        X[i, j] = num"
   ]
  },
  {
   "cell_type": "code",
   "execution_count": 16,
   "id": "1704942d-1b8d-428e-a62f-bfc831056916",
   "metadata": {},
   "outputs": [],
   "source": [
    "class Network(nn.Module):\n",
    "    def __init__(self):\n",
    "        super(Network, self).__init__()\n",
    "        self.embed = nn.Embedding(len(CHAR_TO_INDEX), 28)\n",
    "        self.rnn = nn.RNN(28, 128, batch_first=True)\n",
    "        self.linear = nn.Linear(128, len(CHAR_TO_INDEX))\n",
    "        \n",
    "    def forward(self, sentences, state=None):\n",
    "        embed = self.embed(sentences)\n",
    "        output, hn = self.rnn(embed)\n",
    "        out = self.linear(output)\n",
    "        return out "
   ]
  },
  {
   "cell_type": "code",
   "execution_count": 17,
   "id": "aade9944-97c9-42b8-b4bc-32461105d0ba",
   "metadata": {},
   "outputs": [],
   "source": [
    "model = Network()"
   ]
  },
  {
   "cell_type": "code",
   "execution_count": 18,
   "id": "39fd6122-d6fa-4637-8558-4d8cc98cdc4a",
   "metadata": {},
   "outputs": [],
   "source": [
    "criterion = nn.CrossEntropyLoss()\n",
    "optimizer = torch.optim.SGD(model.parameters(), lr=0.05)"
   ]
  },
  {
   "cell_type": "code",
   "execution_count": 19,
   "id": "7256b470-31bf-4008-9326-cc83449d648a",
   "metadata": {
    "tags": []
   },
   "outputs": [
    {
     "name": "stdout",
     "output_type": "stream",
     "text": [
      "\n",
      "Epoch 0, Time: 2.282, Train loss: 1.3573947212210409\n",
      "\n",
      "Epoch 1, Time: 2.255, Train loss: 0.46284454067548114\n",
      "\n",
      "Epoch 2, Time: 2.250, Train loss: 0.22225435381686245\n",
      "\n",
      "Epoch 3, Time: 2.250, Train loss: 0.13364730161373262\n",
      "\n",
      "Epoch 4, Time: 2.265, Train loss: 0.09236302823518161\n",
      "\n",
      "Epoch 5, Time: 2.247, Train loss: 0.07025524749662038\n",
      "\n",
      "Epoch 6, Time: 2.239, Train loss: 0.05717332650803857\n",
      "\n",
      "Epoch 7, Time: 2.239, Train loss: 0.048726750227312245\n",
      "\n",
      "Epoch 8, Time: 2.248, Train loss: 0.042856611863330556\n",
      "\n",
      "Epoch 9, Time: 2.250, Train loss: 0.03853362096749522\n",
      "\n",
      "Epoch 10, Time: 2.283, Train loss: 0.03520585175741602\n"
     ]
    }
   ],
   "source": [
    "for ep in range(10 + 1):\n",
    "    start = time.time()\n",
    "    train_loss = 0.\n",
    "    train_passed = 0 \n",
    "    \n",
    "    for i in range(int(len(X)/ 100)):\n",
    "        batch_X = X[i*100:(i+1)*100]\n",
    "        batch_Y = Y[i*100:(i+1)*100]\n",
    "        X_batch = batch_X[:, :]\n",
    "        Y_batch = batch_Y[:, :].flatten()\n",
    "        \n",
    "        optimizer.zero_grad()\n",
    "        \n",
    "        answers = model(X_batch)\n",
    "        answers = answers.view(-1, len(INDEX_TO_CHAR))\n",
    "        loss = criterion(answers, Y_batch)\n",
    "        train_loss += loss.item()\n",
    "        \n",
    "        loss.backward()\n",
    "        optimizer.step()\n",
    "        train_passed += 1\n",
    "        \n",
    "    print(f'\\nEpoch {ep}, Time: {time.time() - start:.3f}, Train loss: {train_loss / train_passed}')"
   ]
  },
  {
   "cell_type": "code",
   "execution_count": 20,
   "id": "63160615-74b8-423b-a08d-2113a7f08841",
   "metadata": {},
   "outputs": [],
   "source": [
    "text = \"\"\"\n",
    "species of flowering plants with showy flowers. It takes its name from the Greek word for a rainbow, which is also the name for the Greek goddess of the rainbow, Iris. Some authors state that the name refers to the wide variety of flower colors found among the many species.[3] As well as being the scientific name, iris is also widely used as a common name for all Iris species, as well as some belonging to other closely related genera. A common name for some species is 'flags', while the plants of the subgenus Scorpiris are widely known as 'junos', particularly in horticulture. It is a popular garden flower.\n",
    "\"\"\"\n",
    "\n",
    "text_norm = ''.join([letter for letter in text.lower().strip() if letter in INDEX_TO_CHAR])\n",
    "test_phrase = ''.join([orig_shift.get(i, ' ') for i in text_norm])"
   ]
  },
  {
   "cell_type": "code",
   "execution_count": 21,
   "id": "6a337021-f526-4340-81fc-42bdb640ad29",
   "metadata": {},
   "outputs": [],
   "source": [
    "max_len = 50 \n",
    "X_test = torch.zeros([1, max_len], dtype=int)\n",
    "for j, num in enumerate([CHAR_TO_INDEX.get(letter, CHAR_TO_INDEX['none']) for letter in test_phrase]):\n",
    "    if j >= max_len:\n",
    "        break\n",
    "    X_test[0, j] = num"
   ]
  },
  {
   "cell_type": "code",
   "execution_count": 22,
   "id": "2ffc744a-075f-418f-a7a0-261f5b9ad37d",
   "metadata": {},
   "outputs": [
    {
     "name": "stdout",
     "output_type": "stream",
     "text": [
      "f s\n",
      "c p\n",
      "r e\n",
      "p c\n",
      "v i\n",
      "r e\n",
      "f s\n",
      "   \n",
      "b o\n",
      "s f\n",
      "   \n",
      "s f\n",
      "y l\n",
      "b o\n",
      "j w\n",
      "r e\n",
      "e r\n",
      "v i\n",
      "a n\n",
      "t g\n",
      "   \n",
      "c p\n",
      "y l\n",
      "n a\n",
      "a n\n",
      "g t\n",
      "f s\n",
      "   \n",
      "j w\n",
      "v i\n",
      "g t\n",
      "u h\n",
      "   \n",
      "f s\n",
      "u h\n",
      "b o\n",
      "j w\n",
      "l y\n",
      "   \n",
      "s f\n",
      "y l\n",
      "b o\n",
      "j w\n",
      "r e\n",
      "e r\n",
      "f s\n",
      "   \n",
      "v i\n",
      "g t\n",
      "   \n"
     ]
    }
   ],
   "source": [
    "for i, j in zip( X_test[0], torch.argmax(model(X_test)[0], axis=1) ):\n",
    "    print(INDEX_TO_CHAR[i], INDEX_TO_CHAR[j])"
   ]
  },
  {
   "cell_type": "code",
   "execution_count": 26,
   "id": "0a696239-922e-4301-a5c0-6ab7d23a4a0f",
   "metadata": {},
   "outputs": [],
   "source": [
    "orig_text = text_norm[:50]\n",
    "predicted_text = ''.join([INDEX_TO_CHAR[j] for j in torch.argmax(model(X_test)[0], axis=1)])"
   ]
  },
  {
   "cell_type": "code",
   "execution_count": 29,
   "id": "ba8c0271-5a66-4eb8-ab74-ec663c4ed570",
   "metadata": {},
   "outputs": [
    {
     "name": "stdout",
     "output_type": "stream",
     "text": [
      "\n",
      " species of flowering plants with showy flowers it  \n",
      " species of flowering plants with showy flowers it \n"
     ]
    }
   ],
   "source": [
    "print('\\n', orig_text, '\\n', predicted_text)"
   ]
  },
  {
   "cell_type": "code",
   "execution_count": 30,
   "id": "f9558cb5-4dee-4f28-bc61-82a3884ff42d",
   "metadata": {},
   "outputs": [
    {
     "data": {
      "text/plain": [
       "True"
      ]
     },
     "execution_count": 30,
     "metadata": {},
     "output_type": "execute_result"
    }
   ],
   "source": [
    "orig_text == predicted_text "
   ]
  }
 ],
 "metadata": {
  "kernelspec": {
   "display_name": "Python 3 (ipykernel)",
   "language": "python",
   "name": "python3"
  },
  "language_info": {
   "codemirror_mode": {
    "name": "ipython",
    "version": 3
   },
   "file_extension": ".py",
   "mimetype": "text/x-python",
   "name": "python",
   "nbconvert_exporter": "python",
   "pygments_lexer": "ipython3",
   "version": "3.9.7"
  }
 },
 "nbformat": 4,
 "nbformat_minor": 5
}
