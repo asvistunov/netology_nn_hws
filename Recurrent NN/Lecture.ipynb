{
 "cells": [
  {
   "cell_type": "code",
   "execution_count": 11,
   "id": "bc46ba28-8c55-43e2-8f71-65bb5a76a141",
   "metadata": {},
   "outputs": [],
   "source": [
    "import os\n",
    "import pandas as pd"
   ]
  },
  {
   "cell_type": "code",
   "execution_count": 13,
   "id": "bef84090-0fc6-4e8f-8dc2-a8e8e241449b",
   "metadata": {},
   "outputs": [],
   "source": [
    "def get_data_path(file_name):\n",
    "    path_data = os.path.join(os.getcwd(), 'Data')\n",
    "    return os.path.join(path_data, file_name)"
   ]
  },
  {
   "cell_type": "code",
   "execution_count": 20,
   "id": "c0d89215-1718-43ba-836e-6e2f03c0dd36",
   "metadata": {},
   "outputs": [],
   "source": [
    "simpson_data = pd.read_csv(get_data_path('data.csv')).iloc[:, 1:]"
   ]
  },
  {
   "cell_type": "code",
   "execution_count": null,
   "id": "73ffbec9-d08d-4918-a164-44132bd9c11a",
   "metadata": {},
   "outputs": [],
   "source": []
  }
 ],
 "metadata": {
  "kernelspec": {
   "display_name": "Python 3 (ipykernel)",
   "language": "python",
   "name": "python3"
  },
  "language_info": {
   "codemirror_mode": {
    "name": "ipython",
    "version": 3
   },
   "file_extension": ".py",
   "mimetype": "text/x-python",
   "name": "python",
   "nbconvert_exporter": "python",
   "pygments_lexer": "ipython3",
   "version": "3.9.7"
  }
 },
 "nbformat": 4,
 "nbformat_minor": 5
}
