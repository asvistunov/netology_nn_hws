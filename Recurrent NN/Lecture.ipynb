{
 "cells": [
  {
   "cell_type": "code",
   "execution_count": 1,
   "id": "bc46ba28-8c55-43e2-8f71-65bb5a76a141",
   "metadata": {},
   "outputs": [],
   "source": [
    "import os\n",
    "import pandas as pd\n",
    "import torch\n",
    "from torch import nn \n",
    "import time\n",
    "import numpy as np "
   ]
  },
  {
   "cell_type": "code",
   "execution_count": 2,
   "id": "bef84090-0fc6-4e8f-8dc2-a8e8e241449b",
   "metadata": {},
   "outputs": [],
   "source": [
    "def get_data_path(file_name):\n",
    "    path_data = os.path.join(os.getcwd(), 'Data')\n",
    "    return os.path.join(path_data, file_name)"
   ]
  },
  {
   "cell_type": "code",
   "execution_count": 3,
   "id": "c0d89215-1718-43ba-836e-6e2f03c0dd36",
   "metadata": {},
   "outputs": [],
   "source": [
    "simpson_data = pd.read_csv(get_data_path('data.csv')).iloc[:, 1:]"
   ]
  },
  {
   "cell_type": "code",
   "execution_count": 4,
   "id": "73ffbec9-d08d-4918-a164-44132bd9c11a",
   "metadata": {},
   "outputs": [
    {
     "data": {
      "text/html": [
       "<div>\n",
       "<style scoped>\n",
       "    .dataframe tbody tr th:only-of-type {\n",
       "        vertical-align: middle;\n",
       "    }\n",
       "\n",
       "    .dataframe tbody tr th {\n",
       "        vertical-align: top;\n",
       "    }\n",
       "\n",
       "    .dataframe thead th {\n",
       "        text-align: right;\n",
       "    }\n",
       "</style>\n",
       "<table border=\"1\" class=\"dataframe\">\n",
       "  <thead>\n",
       "    <tr style=\"text-align: right;\">\n",
       "      <th></th>\n",
       "      <th>id</th>\n",
       "      <th>episode_id</th>\n",
       "      <th>number</th>\n",
       "      <th>raw_text</th>\n",
       "      <th>timestamp_in_ms</th>\n",
       "      <th>speaking_line</th>\n",
       "      <th>character_id</th>\n",
       "      <th>location_id</th>\n",
       "      <th>raw_character_text</th>\n",
       "      <th>raw_location_text</th>\n",
       "      <th>spoken_words</th>\n",
       "      <th>normalized_text</th>\n",
       "      <th>word_count</th>\n",
       "    </tr>\n",
       "  </thead>\n",
       "  <tbody>\n",
       "    <tr>\n",
       "      <th>0</th>\n",
       "      <td>10368</td>\n",
       "      <td>35</td>\n",
       "      <td>29</td>\n",
       "      <td>Lisa Simpson: Maggie, look. What's that?</td>\n",
       "      <td>235000</td>\n",
       "      <td>True</td>\n",
       "      <td>9</td>\n",
       "      <td>5.0</td>\n",
       "      <td>Lisa Simpson</td>\n",
       "      <td>Simpson Home</td>\n",
       "      <td>Maggie, look. What's that?</td>\n",
       "      <td>maggie look whats that</td>\n",
       "      <td>4.0</td>\n",
       "    </tr>\n",
       "    <tr>\n",
       "      <th>1</th>\n",
       "      <td>10369</td>\n",
       "      <td>35</td>\n",
       "      <td>30</td>\n",
       "      <td>Lisa Simpson: Lee-mur. Lee-mur.</td>\n",
       "      <td>237000</td>\n",
       "      <td>True</td>\n",
       "      <td>9</td>\n",
       "      <td>5.0</td>\n",
       "      <td>Lisa Simpson</td>\n",
       "      <td>Simpson Home</td>\n",
       "      <td>Lee-mur. Lee-mur.</td>\n",
       "      <td>lee-mur lee-mur</td>\n",
       "      <td>2.0</td>\n",
       "    </tr>\n",
       "    <tr>\n",
       "      <th>2</th>\n",
       "      <td>10370</td>\n",
       "      <td>35</td>\n",
       "      <td>31</td>\n",
       "      <td>Lisa Simpson: Zee-boo. Zee-boo.</td>\n",
       "      <td>239000</td>\n",
       "      <td>True</td>\n",
       "      <td>9</td>\n",
       "      <td>5.0</td>\n",
       "      <td>Lisa Simpson</td>\n",
       "      <td>Simpson Home</td>\n",
       "      <td>Zee-boo. Zee-boo.</td>\n",
       "      <td>zee-boo zee-boo</td>\n",
       "      <td>2.0</td>\n",
       "    </tr>\n",
       "    <tr>\n",
       "      <th>3</th>\n",
       "      <td>10372</td>\n",
       "      <td>35</td>\n",
       "      <td>33</td>\n",
       "      <td>Lisa Simpson: I'm trying to teach Maggie that ...</td>\n",
       "      <td>245000</td>\n",
       "      <td>True</td>\n",
       "      <td>9</td>\n",
       "      <td>5.0</td>\n",
       "      <td>Lisa Simpson</td>\n",
       "      <td>Simpson Home</td>\n",
       "      <td>I'm trying to teach Maggie that nature doesn't...</td>\n",
       "      <td>im trying to teach maggie that nature doesnt e...</td>\n",
       "      <td>24.0</td>\n",
       "    </tr>\n",
       "    <tr>\n",
       "      <th>4</th>\n",
       "      <td>10374</td>\n",
       "      <td>35</td>\n",
       "      <td>35</td>\n",
       "      <td>Lisa Simpson: It's like an ox, only it has a h...</td>\n",
       "      <td>254000</td>\n",
       "      <td>True</td>\n",
       "      <td>9</td>\n",
       "      <td>5.0</td>\n",
       "      <td>Lisa Simpson</td>\n",
       "      <td>Simpson Home</td>\n",
       "      <td>It's like an ox, only it has a hump and a dewl...</td>\n",
       "      <td>its like an ox only it has a hump and a dewlap...</td>\n",
       "      <td>18.0</td>\n",
       "    </tr>\n",
       "  </tbody>\n",
       "</table>\n",
       "</div>"
      ],
      "text/plain": [
       "      id  episode_id  number  \\\n",
       "0  10368          35      29   \n",
       "1  10369          35      30   \n",
       "2  10370          35      31   \n",
       "3  10372          35      33   \n",
       "4  10374          35      35   \n",
       "\n",
       "                                            raw_text  timestamp_in_ms  \\\n",
       "0           Lisa Simpson: Maggie, look. What's that?           235000   \n",
       "1                    Lisa Simpson: Lee-mur. Lee-mur.           237000   \n",
       "2                    Lisa Simpson: Zee-boo. Zee-boo.           239000   \n",
       "3  Lisa Simpson: I'm trying to teach Maggie that ...           245000   \n",
       "4  Lisa Simpson: It's like an ox, only it has a h...           254000   \n",
       "\n",
       "   speaking_line  character_id  location_id raw_character_text  \\\n",
       "0           True             9          5.0       Lisa Simpson   \n",
       "1           True             9          5.0       Lisa Simpson   \n",
       "2           True             9          5.0       Lisa Simpson   \n",
       "3           True             9          5.0       Lisa Simpson   \n",
       "4           True             9          5.0       Lisa Simpson   \n",
       "\n",
       "  raw_location_text                                       spoken_words  \\\n",
       "0      Simpson Home                         Maggie, look. What's that?   \n",
       "1      Simpson Home                                  Lee-mur. Lee-mur.   \n",
       "2      Simpson Home                                  Zee-boo. Zee-boo.   \n",
       "3      Simpson Home  I'm trying to teach Maggie that nature doesn't...   \n",
       "4      Simpson Home  It's like an ox, only it has a hump and a dewl...   \n",
       "\n",
       "                                     normalized_text  word_count  \n",
       "0                             maggie look whats that         4.0  \n",
       "1                                    lee-mur lee-mur         2.0  \n",
       "2                                    zee-boo zee-boo         2.0  \n",
       "3  im trying to teach maggie that nature doesnt e...        24.0  \n",
       "4  its like an ox only it has a hump and a dewlap...        18.0  "
      ]
     },
     "execution_count": 4,
     "metadata": {},
     "output_type": "execute_result"
    }
   ],
   "source": [
    "simpson_data.head()"
   ]
  },
  {
   "cell_type": "code",
   "execution_count": 5,
   "id": "2798ae7e-acf9-46dc-9f5e-658bd43d724e",
   "metadata": {},
   "outputs": [],
   "source": [
    "phrases = simpson_data.loc[:, 'normalized_text'].to_list()"
   ]
  },
  {
   "cell_type": "code",
   "execution_count": 6,
   "id": "bf96c8e3-4aae-4832-a494-3c92c5294785",
   "metadata": {
    "tags": []
   },
   "outputs": [
    {
     "data": {
      "text/plain": [
       "['maggie look whats that', 'lee-mur lee-mur', 'zee-boo zee-boo']"
      ]
     },
     "execution_count": 6,
     "metadata": {},
     "output_type": "execute_result"
    }
   ],
   "source": [
    "phrases[:3]"
   ]
  },
  {
   "cell_type": "code",
   "execution_count": 7,
   "id": "fe564024-63bc-4861-b796-8afb1a108043",
   "metadata": {},
   "outputs": [],
   "source": [
    "phrases_cleaned = [*filter(lambda el: isinstance(el, str), phrases)]"
   ]
  },
  {
   "cell_type": "code",
   "execution_count": 8,
   "id": "8ef1dc9b-7c8a-4c91-9e93-79415cad16f7",
   "metadata": {},
   "outputs": [],
   "source": [
    "text = [[sym for sym in p] for p in phrases if isinstance(p, str)]"
   ]
  },
  {
   "cell_type": "code",
   "execution_count": 107,
   "id": "0b8fba2d-0c7f-4155-b2c6-41711624af17",
   "metadata": {},
   "outputs": [],
   "source": [
    "CHARS = sorted(set('abcdefghijklmnopqrstuvwxyz '))\n",
    "INDEX_TO_CHAR = ['none'] + [w for w in CHARS]\n",
    "CHAR_TO_INDEX = {i:w for w, i in enumerate(INDEX_TO_CHAR)}"
   ]
  },
  {
   "cell_type": "code",
   "execution_count": 10,
   "id": "66d688d9-5e78-4a55-94af-5cfdcdf0b1e6",
   "metadata": {},
   "outputs": [],
   "source": [
    "max_len = 50 \n",
    "X = torch.zeros([len(phrases), max_len], dtype=int)\n",
    "for i, sentence in enumerate(phrases_cleaned):\n",
    "    for j, num in enumerate([CHAR_TO_INDEX.get(letter, CHAR_TO_INDEX['none']) for letter in sentence[:50] if isinstance(letter, str)]):\n",
    "        X[i, j] = num"
   ]
  },
  {
   "cell_type": "code",
   "execution_count": 108,
   "id": "0453e866-7014-43ab-a0b4-9b1859d43963",
   "metadata": {},
   "outputs": [
    {
     "data": {
      "text/plain": [
       "{'none': 0,\n",
       " ' ': 1,\n",
       " 'a': 2,\n",
       " 'b': 3,\n",
       " 'c': 4,\n",
       " 'd': 5,\n",
       " 'e': 6,\n",
       " 'f': 7,\n",
       " 'g': 8,\n",
       " 'h': 9,\n",
       " 'i': 10,\n",
       " 'j': 11,\n",
       " 'k': 12,\n",
       " 'l': 13,\n",
       " 'm': 14,\n",
       " 'n': 15,\n",
       " 'o': 16,\n",
       " 'p': 17,\n",
       " 'q': 18,\n",
       " 'r': 19,\n",
       " 's': 20,\n",
       " 't': 21,\n",
       " 'u': 22,\n",
       " 'v': 23,\n",
       " 'w': 24,\n",
       " 'x': 25,\n",
       " 'y': 26,\n",
       " 'z': 27}"
      ]
     },
     "execution_count": 108,
     "metadata": {},
     "output_type": "execute_result"
    }
   ],
   "source": [
    "CHAR_TO_INDEX"
   ]
  },
  {
   "cell_type": "code",
   "execution_count": 13,
   "id": "df95580a-712d-49fa-b838-4581a3904baf",
   "metadata": {},
   "outputs": [
    {
     "data": {
      "text/plain": [
       "'maggie look whats that'"
      ]
     },
     "execution_count": 13,
     "metadata": {},
     "output_type": "execute_result"
    }
   ],
   "source": [
    "phrases_cleaned[0]"
   ]
  },
  {
   "cell_type": "code",
   "execution_count": 11,
   "id": "c1aecd62-5684-4144-93c2-85fe23e97c65",
   "metadata": {},
   "outputs": [
    {
     "data": {
      "text/plain": [
       "tensor([20, 19, 26, 26, 24,  8, 16,  1, 14, 14, 23, 16, 18,  9, 19,  7, 10, 16,\n",
       "         7,  9, 19,  7,  0,  0,  0,  0,  0,  0,  0,  0,  0,  0,  0,  0,  0,  0,\n",
       "         0,  0,  0,  0,  0,  0,  0,  0,  0,  0,  0,  0,  0,  0])"
      ]
     },
     "execution_count": 11,
     "metadata": {},
     "output_type": "execute_result"
    }
   ],
   "source": [
    "X[0]"
   ]
  },
  {
   "cell_type": "markdown",
   "id": "ca92a729-2924-4c97-b86a-bd57faf1eaf9",
   "metadata": {},
   "source": [
    "### Embedding and RNN layer"
   ]
  },
  {
   "cell_type": "code",
   "execution_count": 22,
   "id": "3a868ad2-f753-4b83-85a5-746084fec2f0",
   "metadata": {},
   "outputs": [],
   "source": [
    "embedding = nn.Embedding(len(CHAR_TO_INDEX), 28)\n",
    "t = embedding(X[:2])"
   ]
  },
  {
   "cell_type": "code",
   "execution_count": 29,
   "id": "627b04d6-5bd1-4769-9a39-d0b10e9c7968",
   "metadata": {},
   "outputs": [
    {
     "data": {
      "text/plain": [
       "(torch.Size([2, 50, 28]), torch.Size([2, 50]))"
      ]
     },
     "execution_count": 29,
     "metadata": {},
     "output_type": "execute_result"
    }
   ],
   "source": [
    "t.shape, X[:2].shape"
   ]
  },
  {
   "cell_type": "code",
   "execution_count": 31,
   "id": "432d52a5-8383-4495-9129-a7523b60ed88",
   "metadata": {},
   "outputs": [
    {
     "data": {
      "text/plain": [
       "tensor([[[ 0.4012,  0.7452, -0.6741,  ...,  0.4302,  0.4272, -0.7302],\n",
       "         [-0.9359,  0.9528,  0.7382,  ..., -0.5555, -0.5714, -0.9304],\n",
       "         [ 0.9221,  0.8647, -0.2065,  ..., -1.2585,  0.2440, -0.4772],\n",
       "         ...,\n",
       "         [-0.6144, -1.4551,  0.7483,  ...,  0.3575,  1.8186, -0.4532],\n",
       "         [-0.6144, -1.4551,  0.7483,  ...,  0.3575,  1.8186, -0.4532],\n",
       "         [-0.6144, -1.4551,  0.7483,  ...,  0.3575,  1.8186, -0.4532]],\n",
       "\n",
       "        [[ 1.1126,  0.7447,  0.2865,  ..., -0.7506,  1.3584,  1.0794],\n",
       "         [ 0.8599,  0.1234,  1.0468,  ...,  1.0508, -1.1131,  2.5102],\n",
       "         [ 0.8599,  0.1234,  1.0468,  ...,  1.0508, -1.1131,  2.5102],\n",
       "         ...,\n",
       "         [-0.6144, -1.4551,  0.7483,  ...,  0.3575,  1.8186, -0.4532],\n",
       "         [-0.6144, -1.4551,  0.7483,  ...,  0.3575,  1.8186, -0.4532],\n",
       "         [-0.6144, -1.4551,  0.7483,  ...,  0.3575,  1.8186, -0.4532]]],\n",
       "       grad_fn=<EmbeddingBackward0>)"
      ]
     },
     "execution_count": 31,
     "metadata": {},
     "output_type": "execute_result"
    }
   ],
   "source": [
    "t"
   ]
  },
  {
   "cell_type": "code",
   "execution_count": 30,
   "id": "f47e73da-1021-4099-975d-12546cef3d0a",
   "metadata": {},
   "outputs": [
    {
     "data": {
      "text/plain": [
       "tensor([[20, 19, 26, 26, 24,  8, 16,  1, 14, 14, 23, 16, 18,  9, 19,  7, 10, 16,\n",
       "          7,  9, 19,  7,  0,  0,  0,  0,  0,  0,  0,  0,  0,  0,  0,  0,  0,  0,\n",
       "          0,  0,  0,  0,  0,  0,  0,  0,  0,  0,  0,  0,  0,  0],\n",
       "        [ 1,  8,  8,  0, 20, 12, 21, 16,  1,  8,  8,  0, 20, 12, 21,  0,  0,  0,\n",
       "          0,  0,  0,  0,  0,  0,  0,  0,  0,  0,  0,  0,  0,  0,  0,  0,  0,  0,\n",
       "          0,  0,  0,  0,  0,  0,  0,  0,  0,  0,  0,  0,  0,  0]])"
      ]
     },
     "execution_count": 30,
     "metadata": {},
     "output_type": "execute_result"
    }
   ],
   "source": [
    "X[:2]"
   ]
  },
  {
   "cell_type": "code",
   "execution_count": 32,
   "id": "41cf18f7-f252-4fac-83f8-0c0e71702126",
   "metadata": {},
   "outputs": [
    {
     "data": {
      "text/plain": [
       "(torch.Size([2, 50, 128]), torch.Size([1, 2, 128]))"
      ]
     },
     "execution_count": 32,
     "metadata": {},
     "output_type": "execute_result"
    }
   ],
   "source": [
    "rnn = nn.RNN(28, 128, batch_first=True)\n",
    "o, s = rnn(t)\n",
    "o.shape, s.shape"
   ]
  },
  {
   "cell_type": "code",
   "execution_count": 33,
   "id": "6091c56c-cbe8-424b-8c22-8e2e6f5fafea",
   "metadata": {},
   "outputs": [
    {
     "data": {
      "text/plain": [
       "tensor([[[-0.1177,  0.1854,  0.1870,  ..., -0.1068,  0.0458, -0.2833],\n",
       "         [-0.1194,  0.3448,  0.0483,  ..., -0.0972, -0.0458,  0.6143],\n",
       "         [-0.2528,  0.2589, -0.4974,  ..., -0.1175,  0.1720, -0.0871],\n",
       "         ...,\n",
       "         [ 0.2580,  0.0861,  0.5146,  ...,  0.1763, -0.1065,  0.2079],\n",
       "         [ 0.2580,  0.0861,  0.5146,  ...,  0.1763, -0.1065,  0.2079],\n",
       "         [ 0.2580,  0.0861,  0.5146,  ...,  0.1763, -0.1065,  0.2079]],\n",
       "\n",
       "        [[-0.2515,  0.2929, -0.2898,  ..., -0.0027, -0.0113,  0.2344],\n",
       "         [-0.5529,  0.1068,  0.2482,  ...,  0.3495, -0.2969, -0.3739],\n",
       "         [-0.4666, -0.1370, -0.0140,  ...,  0.5581, -0.4114, -0.4334],\n",
       "         ...,\n",
       "         [ 0.2580,  0.0861,  0.5146,  ...,  0.1763, -0.1065,  0.2079],\n",
       "         [ 0.2580,  0.0861,  0.5146,  ...,  0.1763, -0.1065,  0.2079],\n",
       "         [ 0.2580,  0.0861,  0.5146,  ...,  0.1763, -0.1065,  0.2079]]],\n",
       "       grad_fn=<TransposeBackward1>)"
      ]
     },
     "execution_count": 33,
     "metadata": {},
     "output_type": "execute_result"
    }
   ],
   "source": [
    "o"
   ]
  },
  {
   "cell_type": "code",
   "execution_count": 34,
   "id": "3d8cce0f-27b5-48ef-9dba-edc3a09f1790",
   "metadata": {},
   "outputs": [
    {
     "data": {
      "text/plain": [
       "tensor([[[ 2.5798e-01,  8.6096e-02,  5.1462e-01,  2.7532e-01, -1.2804e-02,\n",
       "          -5.5907e-02,  1.9148e-01, -1.1949e-01,  2.4506e-01,  1.2066e-01,\n",
       "           1.7921e-01, -2.7090e-01,  4.6904e-02, -2.4554e-01,  1.8467e-01,\n",
       "          -2.5699e-01,  4.4413e-01, -4.5050e-02,  4.3491e-01,  1.9214e-01,\n",
       "           1.0260e-01, -3.7560e-01,  1.7719e-01, -1.8062e-01, -3.9982e-01,\n",
       "           3.3827e-01, -1.9555e-02, -2.0602e-01, -3.2931e-01, -1.3029e-01,\n",
       "           2.0961e-02, -3.3736e-02, -3.6602e-01,  1.1025e-01, -9.4655e-02,\n",
       "          -9.0530e-02,  1.4991e-01,  1.4714e-03,  1.1206e-01, -3.6420e-02,\n",
       "           7.0558e-02, -4.0003e-01,  2.3466e-01, -8.3561e-02,  7.7733e-02,\n",
       "          -1.6386e-01,  2.0178e-01,  2.7132e-02,  2.2086e-01,  6.1084e-02,\n",
       "          -2.9655e-01, -3.3372e-01, -7.7902e-02,  1.3531e-01,  1.5415e-02,\n",
       "           1.0794e-01,  1.8747e-01, -2.7202e-01, -3.1681e-01,  1.7532e-01,\n",
       "           9.3117e-02,  1.2843e-01, -2.4375e-01,  4.1192e-01,  1.1663e-02,\n",
       "           2.0492e-01,  2.5556e-01,  1.5494e-01, -3.1832e-01,  1.8718e-01,\n",
       "           6.4648e-02,  1.7235e-01,  8.8418e-02,  2.3224e-01, -5.6912e-01,\n",
       "          -2.1363e-01, -2.1898e-01,  2.4564e-01, -2.9881e-01,  8.7314e-02,\n",
       "           6.1995e-02,  5.8015e-04, -4.6440e-02,  1.8378e-01,  5.6727e-02,\n",
       "           3.2379e-01, -1.2317e-01,  4.0720e-01, -4.4979e-01, -3.4668e-01,\n",
       "           1.1096e-02,  4.5036e-01, -2.5905e-01, -3.5051e-01, -1.1169e-01,\n",
       "          -3.3367e-01, -1.0486e-01,  2.0562e-01,  1.5677e-01,  3.7391e-02,\n",
       "          -4.1935e-01,  1.2604e-02, -4.2284e-01, -1.7731e-02,  1.6636e-01,\n",
       "           1.8427e-01, -1.2981e-01,  6.0413e-01, -1.1185e-01,  1.5806e-01,\n",
       "          -6.2789e-01,  9.0996e-02,  2.4281e-01, -2.5588e-02, -2.0941e-01,\n",
       "           2.0384e-01,  8.6532e-02,  7.6037e-02,  1.9986e-01, -9.0914e-02,\n",
       "           4.4057e-01,  4.8564e-01, -7.7090e-02, -1.1178e-02, -2.4048e-01,\n",
       "           1.7631e-01, -1.0646e-01,  2.0785e-01],\n",
       "         [ 2.5798e-01,  8.6096e-02,  5.1462e-01,  2.7532e-01, -1.2804e-02,\n",
       "          -5.5907e-02,  1.9148e-01, -1.1949e-01,  2.4506e-01,  1.2066e-01,\n",
       "           1.7921e-01, -2.7090e-01,  4.6904e-02, -2.4554e-01,  1.8467e-01,\n",
       "          -2.5699e-01,  4.4413e-01, -4.5050e-02,  4.3491e-01,  1.9214e-01,\n",
       "           1.0260e-01, -3.7560e-01,  1.7719e-01, -1.8062e-01, -3.9982e-01,\n",
       "           3.3827e-01, -1.9555e-02, -2.0602e-01, -3.2931e-01, -1.3029e-01,\n",
       "           2.0961e-02, -3.3736e-02, -3.6602e-01,  1.1025e-01, -9.4655e-02,\n",
       "          -9.0530e-02,  1.4991e-01,  1.4714e-03,  1.1206e-01, -3.6420e-02,\n",
       "           7.0558e-02, -4.0003e-01,  2.3466e-01, -8.3561e-02,  7.7733e-02,\n",
       "          -1.6386e-01,  2.0178e-01,  2.7132e-02,  2.2086e-01,  6.1084e-02,\n",
       "          -2.9655e-01, -3.3372e-01, -7.7902e-02,  1.3531e-01,  1.5415e-02,\n",
       "           1.0794e-01,  1.8747e-01, -2.7202e-01, -3.1681e-01,  1.7532e-01,\n",
       "           9.3116e-02,  1.2843e-01, -2.4375e-01,  4.1192e-01,  1.1663e-02,\n",
       "           2.0492e-01,  2.5556e-01,  1.5494e-01, -3.1832e-01,  1.8718e-01,\n",
       "           6.4648e-02,  1.7235e-01,  8.8418e-02,  2.3224e-01, -5.6912e-01,\n",
       "          -2.1363e-01, -2.1898e-01,  2.4564e-01, -2.9881e-01,  8.7314e-02,\n",
       "           6.1995e-02,  5.8012e-04, -4.6440e-02,  1.8378e-01,  5.6727e-02,\n",
       "           3.2379e-01, -1.2317e-01,  4.0720e-01, -4.4979e-01, -3.4668e-01,\n",
       "           1.1096e-02,  4.5036e-01, -2.5905e-01, -3.5051e-01, -1.1169e-01,\n",
       "          -3.3367e-01, -1.0486e-01,  2.0562e-01,  1.5677e-01,  3.7391e-02,\n",
       "          -4.1935e-01,  1.2604e-02, -4.2284e-01, -1.7731e-02,  1.6636e-01,\n",
       "           1.8427e-01, -1.2981e-01,  6.0413e-01, -1.1185e-01,  1.5806e-01,\n",
       "          -6.2789e-01,  9.0996e-02,  2.4281e-01, -2.5588e-02, -2.0941e-01,\n",
       "           2.0384e-01,  8.6532e-02,  7.6037e-02,  1.9986e-01, -9.0914e-02,\n",
       "           4.4057e-01,  4.8564e-01, -7.7090e-02, -1.1178e-02, -2.4048e-01,\n",
       "           1.7631e-01, -1.0646e-01,  2.0785e-01]]], grad_fn=<StackBackward0>)"
      ]
     },
     "execution_count": 34,
     "metadata": {},
     "output_type": "execute_result"
    }
   ],
   "source": [
    "s"
   ]
  },
  {
   "cell_type": "code",
   "execution_count": 42,
   "id": "13d48a93-b01d-4fa3-8416-33c6ef67e797",
   "metadata": {},
   "outputs": [],
   "source": [
    "class Network(nn.Module):\n",
    "    def __init__(self):\n",
    "        super(Network, self).__init__()\n",
    "        self.embed = nn.Embedding(len(CHAR_TO_INDEX), 28)\n",
    "        self.rnn = nn.RNN(28, 128, batch_first=True)\n",
    "        self.linear = nn.Linear(128, len(CHAR_TO_INDEX))\n",
    "        \n",
    "    def forward(self, sentences, state=None):\n",
    "        embed = self.embed(sentences)\n",
    "        o, s = self.rnn(embed)\n",
    "        out = self.linear(o)\n",
    "        return out "
   ]
  },
  {
   "cell_type": "code",
   "execution_count": 44,
   "id": "81f53d11-9f78-4ae0-abec-665e55b9e438",
   "metadata": {},
   "outputs": [],
   "source": [
    "model = Network()"
   ]
  },
  {
   "cell_type": "code",
   "execution_count": null,
   "id": "3e19b456-af53-410f-8397-b916480343bd",
   "metadata": {},
   "outputs": [],
   "source": [
    "criterion = nn.CrossEntropyLoss()\n",
    "optimizer = torch.optim.SGD(model.parameters(), lr=0.05)"
   ]
  },
  {
   "cell_type": "code",
   "execution_count": null,
   "id": "cfefa8ff-89e5-46bf-b4a4-0e0020504dc7",
   "metadata": {},
   "outputs": [],
   "source": [
    "CHAR_TO_INDEX"
   ]
  },
  {
   "cell_type": "code",
   "execution_count": null,
   "id": "83b31102-134c-45c6-ba56-beed78dbaa73",
   "metadata": {},
   "outputs": [],
   "source": [
    "def generate_sentence():\n",
    "    sentence = [*'hello']\n",
    "    max_len = 50 \n",
    "    x = torch.zeros([1, len(sentence)], dtype=int)\n",
    "    \n",
    "    for j, num in enumerate(sentence):\n",
    "        if j >= max_len:\n",
    "            break\n",
    "        x[0, j] = CHAR_TO_INDEX.get(num, CHAR_TO_INDEX['none'])\n",
    "    \n",
    "    for i in range(max_len):\n",
    "        o = model(x)\n",
    "        l = torch.argmax(o[-1, -1, :], keepdim=True)\n",
    "        x = torch.cat([x, l.unsqueeze(0)], axis=1)\n",
    "        \n",
    "        ll = INDEX_TO_CHAR[l]\n",
    "        \n",
    "        if ll == 'none':\n",
    "            break\n",
    "            \n",
    "        sentence.append(ll)\n",
    "        \n",
    "    return ''.join(sentence)"
   ]
  },
  {
   "cell_type": "code",
   "execution_count": null,
   "id": "a78c1d44-4844-4ec9-824b-5f355a1ddbe7",
   "metadata": {
    "tags": []
   },
   "outputs": [],
   "source": [
    "for ep in range(200 + 1):\n",
    "    start = time.time()\n",
    "    train_loss = 0.\n",
    "    train_passed = 0 \n",
    "    \n",
    "    for i in range(int(len(X)/ 100)):\n",
    "        batch = X[i*100:(i+1)*100]\n",
    "        X_batch = batch[:, :-1]\n",
    "        Y_batch = batch[:, 1:].flatten()\n",
    "        \n",
    "        optimizer.zero_grad()\n",
    "        \n",
    "        answers = model(X_batch)\n",
    "        answers = answers.view(-1, len(INDEX_TO_CHAR))\n",
    "        loss = criterion(answers, Y_batch)\n",
    "        train_loss += loss.item()\n",
    "        \n",
    "        loss.backward()\n",
    "        optimizer.step()\n",
    "        train_passed += 1\n",
    "        \n",
    "    \n",
    "    if ep%5 == 0:\n",
    "        print(f'\\nEpoch {ep}, Time: {time.time() - start:.3f}, Train loss: {train_loss / train_passed}')\n",
    "        s = generate_sentence()\n",
    "        print(s)\n",
    "    else:\n",
    "        print(f'\\nEpoch {ep}, Time: {time.time() - start:.3f}, Train loss: {train_loss / train_passed}')"
   ]
  },
  {
   "cell_type": "markdown",
   "id": "b3502f7c-1283-44cc-883b-0ce9a563b1df",
   "metadata": {},
   "source": [
    "## Cezar "
   ]
  },
  {
   "cell_type": "code",
   "execution_count": null,
   "id": "2170ac79-647a-4938-8980-6f5b3beadabc",
   "metadata": {},
   "outputs": [],
   "source": [
    "phrases[:10]"
   ]
  },
  {
   "cell_type": "markdown",
   "id": "931a3488-a052-4306-a8e8-806962b4e278",
   "metadata": {},
   "source": [
    "#### Сдвиг на 1"
   ]
  },
  {
   "cell_type": "code",
   "execution_count": 402,
   "id": "9dfddfdf-fc04-4abf-8306-94c97aaffef1",
   "metadata": {},
   "outputs": [],
   "source": [
    "alphabet = set('abcdefghijklmnopqrstuvwxyz')"
   ]
  },
  {
   "cell_type": "code",
   "execution_count": 403,
   "id": "8f8284f4-ee2e-4d67-963a-dff38daf7340",
   "metadata": {},
   "outputs": [],
   "source": [
    "orig = np.array(sorted([*alphabet]))\n",
    "shifted = np.roll(orig, 13)"
   ]
  },
  {
   "cell_type": "code",
   "execution_count": 404,
   "id": "986eed41-228d-4de1-b2fd-4000b2317ded",
   "metadata": {},
   "outputs": [
    {
     "data": {
      "text/plain": [
       "{'a': 'n',\n",
       " 'b': 'o',\n",
       " 'c': 'p',\n",
       " 'd': 'q',\n",
       " 'e': 'r',\n",
       " 'f': 's',\n",
       " 'g': 't',\n",
       " 'h': 'u',\n",
       " 'i': 'v',\n",
       " 'j': 'w',\n",
       " 'k': 'x',\n",
       " 'l': 'y',\n",
       " 'm': 'z',\n",
       " 'n': 'a',\n",
       " 'o': 'b',\n",
       " 'p': 'c',\n",
       " 'q': 'd',\n",
       " 'r': 'e',\n",
       " 's': 'f',\n",
       " 't': 'g',\n",
       " 'u': 'h',\n",
       " 'v': 'i',\n",
       " 'w': 'j',\n",
       " 'x': 'k',\n",
       " 'y': 'l',\n",
       " 'z': 'm'}"
      ]
     },
     "execution_count": 404,
     "metadata": {},
     "output_type": "execute_result"
    }
   ],
   "source": [
    "orig_shift = {l_or:l_sh for l_or, l_sh in zip(orig, shifted)}\n",
    "orig_shift"
   ]
  },
  {
   "cell_type": "code",
   "execution_count": 405,
   "id": "7c8a0367-dd4f-445f-8653-1fda96e63606",
   "metadata": {},
   "outputs": [],
   "source": [
    "shifted_phrases = [''.join([orig_shift.get(i, ' ') for i in phrase]) for phrase in phrases_cleaned]"
   ]
  },
  {
   "cell_type": "code",
   "execution_count": 406,
   "id": "88ee72d2-8646-45d0-af15-7213c41310d1",
   "metadata": {},
   "outputs": [],
   "source": [
    "max_len = 50 \n",
    "Y = torch.zeros([len(phrases_cleaned), max_len], dtype=int)\n",
    "for i, sentence in enumerate(phrases_cleaned):\n",
    "    for j, num in enumerate([CHAR_TO_INDEX.get(letter, CHAR_TO_INDEX['none']) for letter in sentence[:50] if isinstance(letter, str)]):\n",
    "        Y[i, j] = num"
   ]
  },
  {
   "cell_type": "code",
   "execution_count": 407,
   "id": "89fbd5f3-1b1b-4951-89c5-f2a6a85e00cd",
   "metadata": {},
   "outputs": [],
   "source": [
    "max_len = 50 \n",
    "X = torch.zeros([len(shifted_phrases), max_len], dtype=int)\n",
    "for i, sentence in enumerate(shifted_phrases):\n",
    "    for j, num in enumerate([CHAR_TO_INDEX.get(letter, CHAR_TO_INDEX['none']) for letter in sentence[:50] if isinstance(letter, str)]):\n",
    "        X[i, j] = num"
   ]
  },
  {
   "cell_type": "code",
   "execution_count": 408,
   "id": "a0adcd32-2ffb-4cd6-8470-7717db7dcf93",
   "metadata": {},
   "outputs": [],
   "source": [
    "class Network(nn.Module):\n",
    "    def __init__(self):\n",
    "        super(Network, self).__init__()\n",
    "        self.embed = nn.Embedding(len(CHAR_TO_INDEX), 28)\n",
    "        self.rnn = nn.RNN(28, 128, batch_first=True)\n",
    "        self.linear = nn.Linear(128, len(CHAR_TO_INDEX))\n",
    "        \n",
    "    def forward(self, sentences, state=None):\n",
    "        embed = self.embed(sentences)\n",
    "        output, hn = self.rnn(embed)\n",
    "        out = self.linear(output)\n",
    "        return out "
   ]
  },
  {
   "cell_type": "code",
   "execution_count": 409,
   "id": "0251a718-b080-4bd1-82f6-695823935104",
   "metadata": {},
   "outputs": [],
   "source": [
    "model = Network()"
   ]
  },
  {
   "cell_type": "code",
   "execution_count": 410,
   "id": "ef2064fa-a7fa-4387-b545-326a9fe95524",
   "metadata": {},
   "outputs": [],
   "source": [
    "criterion = nn.CrossEntropyLoss()\n",
    "optimizer = torch.optim.SGD(model.parameters(), lr=0.05)"
   ]
  },
  {
   "cell_type": "code",
   "execution_count": 411,
   "id": "7293cdb1-4b11-41aa-8153-6047bb81c08c",
   "metadata": {
    "tags": []
   },
   "outputs": [
    {
     "name": "stdout",
     "output_type": "stream",
     "text": [
      "\n",
      "Epoch 0, Time: 2.314, Train loss: 1.2632088531498555\n",
      "\n",
      "Epoch 1, Time: 2.259, Train loss: 0.42562279132781206\n",
      "\n",
      "Epoch 2, Time: 2.251, Train loss: 0.23060751278643254\n",
      "\n",
      "Epoch 3, Time: 2.266, Train loss: 0.14830621242247247\n",
      "\n",
      "Epoch 4, Time: 2.314, Train loss: 0.104971952839858\n",
      "\n",
      "Epoch 5, Time: 2.337, Train loss: 0.07978023257520464\n",
      "\n",
      "Epoch 6, Time: 2.251, Train loss: 0.06420968983460355\n",
      "\n",
      "Epoch 7, Time: 2.315, Train loss: 0.05399840632108627\n",
      "\n",
      "Epoch 8, Time: 2.315, Train loss: 0.04690321621105627\n",
      "\n",
      "Epoch 9, Time: 2.282, Train loss: 0.04171263141971496\n",
      "\n",
      "Epoch 10, Time: 2.324, Train loss: 0.0377482472298046\n"
     ]
    }
   ],
   "source": [
    "for ep in range(10 + 1):\n",
    "    start = time.time()\n",
    "    train_loss = 0.\n",
    "    train_passed = 0 \n",
    "    \n",
    "    for i in range(int(len(X)/ 100)):\n",
    "        batch_X = X[i*100:(i+1)*100]\n",
    "        batch_Y = Y[i*100:(i+1)*100]\n",
    "        X_batch = batch_X[:, :]\n",
    "        Y_batch = batch_Y[:, :].flatten()\n",
    "        \n",
    "        optimizer.zero_grad()\n",
    "        \n",
    "        answers = model(X_batch)\n",
    "        answers = answers.view(-1, len(INDEX_TO_CHAR))\n",
    "        loss = criterion(answers, Y_batch)\n",
    "        train_loss += loss.item()\n",
    "        \n",
    "        loss.backward()\n",
    "        optimizer.step()\n",
    "        train_passed += 1\n",
    "        \n",
    "    print(f'\\nEpoch {ep}, Time: {time.time() - start:.3f}, Train loss: {train_loss / train_passed}')"
   ]
  },
  {
   "cell_type": "code",
   "execution_count": 417,
   "id": "2169f967-16e0-4e20-b1b7-f65c33085e0a",
   "metadata": {},
   "outputs": [],
   "source": [
    "text = \"\"\"\n",
    "species of flowering plants with showy flowers. It takes its name from the Greek word for a rainbow, which is also the name for the Greek goddess of the rainbow, Iris. Some authors state that the name refers to the wide variety of flower colors found among the many species.[3] As well as being the scientific name, iris is also widely used as a common name for all Iris species, as well as some belonging to other closely related genera. A common name for some species is 'flags', while the plants of the subgenus Scorpiris are widely known as 'junos', particularly in horticulture. It is a popular garden flower.\n",
    "\"\"\"\n",
    "\n",
    "text_norm = ''.join([letter for letter in text.lower().strip() if letter in INDEX_TO_CHAR])\n",
    "test_phrase = ''.join([orig_shift.get(i, ' ') for i in text_norm])"
   ]
  },
  {
   "cell_type": "code",
   "execution_count": 418,
   "id": "5d3dd8da-6c5b-4cbb-a419-6b9738cd5a86",
   "metadata": {},
   "outputs": [],
   "source": [
    "max_len = 50 \n",
    "X_test = torch.zeros([1, max_len], dtype=int)\n",
    "for j, num in enumerate([CHAR_TO_INDEX.get(letter, CHAR_TO_INDEX['none']) for letter in test_phrase]):\n",
    "    if j >= max_len:\n",
    "        break\n",
    "    X_test[0, j] = num"
   ]
  },
  {
   "cell_type": "code",
   "execution_count": 419,
   "id": "e968443f-82c1-4e84-a876-5443c0d654fa",
   "metadata": {},
   "outputs": [
    {
     "name": "stdout",
     "output_type": "stream",
     "text": [
      "f s\n",
      "c p\n",
      "r e\n",
      "p c\n",
      "v i\n",
      "r e\n",
      "f s\n",
      "   \n",
      "b o\n",
      "s f\n",
      "   \n",
      "s f\n",
      "y l\n",
      "b o\n",
      "j w\n",
      "r e\n",
      "e r\n",
      "v i\n",
      "a n\n",
      "t g\n",
      "   \n",
      "c p\n",
      "y l\n",
      "n a\n",
      "a n\n",
      "g t\n",
      "f s\n",
      "   \n",
      "j w\n",
      "v i\n",
      "g t\n",
      "u h\n",
      "   \n",
      "f s\n",
      "u h\n",
      "b o\n",
      "j w\n",
      "l y\n",
      "   \n",
      "s f\n",
      "y l\n",
      "b o\n",
      "j w\n",
      "r e\n",
      "e r\n",
      "f s\n",
      "   \n",
      "v i\n",
      "g t\n",
      "   \n"
     ]
    }
   ],
   "source": [
    "for i, j in zip( X_test[0], torch.argmax(model(X_test)[0], axis=1) ):\n",
    "    print(INDEX_TO_CHAR[i], INDEX_TO_CHAR[j])"
   ]
  }
 ],
 "metadata": {
  "kernelspec": {
   "display_name": "Python 3 (ipykernel)",
   "language": "python",
   "name": "python3"
  },
  "language_info": {
   "codemirror_mode": {
    "name": "ipython",
    "version": 3
   },
   "file_extension": ".py",
   "mimetype": "text/x-python",
   "name": "python",
   "nbconvert_exporter": "python",
   "pygments_lexer": "ipython3",
   "version": "3.9.7"
  }
 },
 "nbformat": 4,
 "nbformat_minor": 5
}
