{
 "cells": [
  {
   "cell_type": "code",
   "execution_count": 2,
   "metadata": {},
   "outputs": [],
   "source": [
    "import torch\n",
    "import time \n",
    "\n",
    "import torchvision as tv \n",
    "import matplotlib.pyplot as plt"
   ]
  },
  {
   "cell_type": "code",
   "execution_count": 3,
   "metadata": {},
   "outputs": [],
   "source": [
    "#loading dataset\n",
    "BATCH_SIZE = 256 \n",
    "\n",
    "train_dataset = tv.datasets.FashionMNIST('.', train=True, transform=tv.transforms.ToTensor(), download=True)\n",
    "test_dataset = tv.datasets.FashionMNIST('.', train=False, transform=tv.transforms.ToTensor(), download=True)\n",
    "\n",
    "train = torch.utils.data.DataLoader(train_dataset, batch_size = BATCH_SIZE)\n",
    "test = torch.utils.data.DataLoader(test_dataset, batch_size = BATCH_SIZE)"
   ]
  },
  {
   "cell_type": "code",
   "execution_count": 9,
   "metadata": {},
   "outputs": [],
   "source": [
    "def train_model():\n",
    "    for ep in range(num_epochs + 1):\n",
    "        train_iters, train_passed = 0, 0\n",
    "        train_loss, train_acc = 0., 0. \n",
    "        start = time.time()\n",
    "        \n",
    "        model.train()\n",
    "        for X, y in train:\n",
    "            trainer.zero_grad()\n",
    "            y_pred = model(X)\n",
    "            l = loss(y_pred, y)\n",
    "            l.backward()\n",
    "            trainer.step()\n",
    "            train_loss += l.item()\n",
    "            train_acc += (y_pred.argmax(axis=1) == y).sum().item()\n",
    "            train_iters += 1\n",
    "            train_passed += len(X)\n",
    "        \n",
    "        test_iters, test_passed = 0, 0\n",
    "        test_loss, test_acc = 0., 0. \n",
    "        model.eval()\n",
    "        for X, y in test:\n",
    "            y_pred = model(X)\n",
    "            l = loss(y_pred, y)\n",
    "            test_loss += l.item()\n",
    "            test_acc += (y_pred.argmax(axis=1) == y).sum().item()\n",
    "            test_iters += 1\n",
    "            test_passed += len(X)\n",
    "        \n",
    "        print('ep: {}, taked: {:.3f}, train_loss: {}, train_acc: {}, test_loss: {}, test_acc: {}'.format(\n",
    "        ep, time.time() - start, train_loss / train_iters, train_acc / train_passed, \n",
    "        test_loss / test_iters, test_acc / test_passed)\n",
    "             )\n",
    "            "
   ]
  },
  {
   "cell_type": "markdown",
   "metadata": {},
   "source": [
    "## Model "
   ]
  },
  {
   "cell_type": "code",
   "execution_count": 35,
   "metadata": {},
   "outputs": [
    {
     "name": "stdout",
     "output_type": "stream",
     "text": [
      "torch.Size([1, 28, 28])\n"
     ]
    },
    {
     "data": {
      "image/png": "[encoded data removed]",
      "text/plain": [
       "<Figure size 432x288 with 1 Axes>"
      ]
     },
     "metadata": {
      "needs_background": "light"
     },
     "output_type": "display_data"
    }
   ],
   "source": [
    "for X, y in train:\n",
    "    print(X[1].shape)\n",
    "    plt.imshow(X[8][0], cmap=\"gray\")\n",
    "    break"
   ]
  },
  {
   "cell_type": "code",
   "execution_count": 116,
   "metadata": {},
   "outputs": [
    {
     "name": "stdout",
     "output_type": "stream",
     "text": [
      "ep: 0, taked: 15.376, train_loss: 0.6467841805295741, train_acc: 0.7990666666666667, test_loss: 0.3830020673573017, test_acc: 0.8607\n",
      "ep: 1, taked: 15.192, train_loss: 0.3234043596272773, train_acc: 0.8823666666666666, test_loss: 0.30160607062280176, test_acc: 0.8895\n",
      "ep: 2, taked: 15.195, train_loss: 0.2831650092246685, train_acc: 0.8952666666666667, test_loss: 0.30461221672594546, test_acc: 0.8885\n",
      "ep: 3, taked: 15.423, train_loss: 0.25941367181057623, train_acc: 0.90435, test_loss: 0.31897776424884794, test_acc: 0.8825\n",
      "ep: 4, taked: 15.301, train_loss: 0.24000495260066174, train_acc: 0.9118333333333334, test_loss: 0.28674472495913506, test_acc: 0.8968\n",
      "ep: 5, taked: 15.254, train_loss: 0.22424109229382047, train_acc: 0.9163166666666667, test_loss: 0.35047541595995424, test_acc: 0.878\n",
      "ep: 6, taked: 15.235, train_loss: 0.20968918429410205, train_acc: 0.9220833333333334, test_loss: 0.2999252062290907, test_acc: 0.895\n",
      "ep: 7, taked: 15.619, train_loss: 0.196682071844314, train_acc: 0.9250333333333334, test_loss: 0.2820368368178606, test_acc: 0.9016\n",
      "ep: 8, taked: 15.377, train_loss: 0.18534452423770376, train_acc: 0.9300666666666667, test_loss: 0.28202009834349157, test_acc: 0.9048\n",
      "ep: 9, taked: 15.345, train_loss: 0.1792293888774324, train_acc: 0.93265, test_loss: 0.27469539605081084, test_acc: 0.9088\n",
      "ep: 10, taked: 15.584, train_loss: 0.1700048510381516, train_acc: 0.9356833333333333, test_loss: 0.2738421730697155, test_acc: 0.9073\n"
     ]
    }
   ],
   "source": [
    "model = torch.nn.Sequential(\n",
    "    torch.nn.Conv2d(1, 6, kernel_size=3, padding=1),\n",
    "    torch.nn.BatchNorm2d(6),\n",
    "    torch.nn.ReLU(), \n",
    "    torch.nn.MaxPool2d(2, stride=2),\n",
    "    torch.nn.Conv2d(6, 12, kernel_size=3),\n",
    "    torch.nn.BatchNorm2d(12),\n",
    "    torch.nn.ReLU(), \n",
    "    torch.nn.MaxPool2d(2),\n",
    "    torch.nn.Flatten(),\n",
    "    torch.nn.Linear(432, 600),\n",
    "    torch.nn.Dropout(0.3),\n",
    "    torch.nn.ReLU(),\n",
    "    torch.nn.Linear(600, 120),\n",
    "    torch.nn.ReLU(),\n",
    "    torch.nn.Linear(120, 10),\n",
    "    torch.nn.ReLU()\n",
    ")\n",
    "\n",
    "loss = torch.nn.CrossEntropyLoss()\n",
    "trainer = torch.optim.Adam(model.parameters(), lr=0.003)\n",
    "# trainer = torch.optim.SGD(model.parameters(), lr=0.001, momentum=0.8)\n",
    "num_epochs = 10\n",
    "\n",
    "train_model()"
   ]
  }
 ],
 "metadata": {
  "kernelspec": {
   "display_name": "Python 3 (ipykernel)",
   "language": "python",
   "name": "python3"
  },
  "language_info": {
   "codemirror_mode": {
    "name": "ipython",
    "version": 3
   },
   "file_extension": ".py",
   "mimetype": "text/x-python",
   "name": "python",
   "nbconvert_exporter": "python",
   "pygments_lexer": "ipython3",
   "version": "3.9.7"
  }
 },
 "nbformat": 4,
 "nbformat_minor": 4
}
