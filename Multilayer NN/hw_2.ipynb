{
 "cells": [
  {
   "cell_type": "code",
   "execution_count": 3,
   "metadata": {},
   "outputs": [],
   "source": [
    "import torch \n",
    "\n",
    "import torchvision as tv \n",
    "\n",
    "import time "
   ]
  },
  {
   "cell_type": "code",
   "execution_count": 6,
   "metadata": {},
   "outputs": [],
   "source": [
    "#loading dataset\n",
    "BATCH_SIZE = 256 \n",
    "\n",
    "train_dataset = tv.datasets.FashionMNIST('.', train=True, transform=tv.transforms.ToTensor(), download=True)\n",
    "test_dataset = tv.datasets.FashionMNIST('.', train=False, transform=tv.transforms.ToTensor(), download=True)\n",
    "\n",
    "train = torch.utils.data.DataLoader(train_dataset, batch_size = BATCH_SIZE)\n",
    "test = torch.utils.data.DataLoader(test_dataset, batch_size = BATCH_SIZE)"
   ]
  },
  {
   "cell_type": "code",
   "execution_count": 42,
   "metadata": {},
   "outputs": [],
   "source": [
    "model = torch.nn.Sequential(\n",
    "    torch.nn.Flatten(),\n",
    "    torch.nn.Linear(784, 2048),\n",
    "    torch.nn.ReLU(), \n",
    "    torch.nn.BatchNorm1d(2048),\n",
    "    torch.nn.Linear(2048, 1024),\n",
    "    torch.nn.ReLU(), \n",
    "    torch.nn.BatchNorm1d(1024),\n",
    "    torch.nn.Linear(1024, 512),\n",
    "    torch.nn.ReLU(), \n",
    "    torch.nn.BatchNorm1d(512),\n",
    "    torch.nn.Linear(512, 10)\n",
    ")"
   ]
  },
  {
   "cell_type": "code",
   "execution_count": 43,
   "metadata": {},
   "outputs": [],
   "source": [
    "loss = torch.nn.CrossEntropyLoss()\n",
    "trainer = torch.optim.Adam(model.parameters(), lr=0.006)\n",
    "num_epochs = 20"
   ]
  },
  {
   "cell_type": "code",
   "execution_count": 36,
   "metadata": {},
   "outputs": [],
   "source": [
    "def train_model():\n",
    "    for ep in range(num_epochs):\n",
    "        train_iters, train_passed = 0, 0\n",
    "        train_loss, train_acc = 0., 0. \n",
    "        start = time.time()\n",
    "        \n",
    "        model.train()\n",
    "        for X, y in train:\n",
    "            trainer.zero_grad()\n",
    "            y_pred = model(X)\n",
    "            l = loss(y_pred, y)\n",
    "            l.backward()\n",
    "            trainer.step()\n",
    "            train_loss += l.item()\n",
    "            train_acc += (y_pred.argmax(axis=1) == y).sum().item()\n",
    "            train_iters += 1\n",
    "            train_passed += len(X)\n",
    "        \n",
    "        test_iters, test_passed = 0, 0\n",
    "        test_loss, test_acc = 0., 0. \n",
    "        model.eval()\n",
    "        for X, y in test:\n",
    "            y_pred = model(X)\n",
    "            l = loss(y_pred, y)\n",
    "            test_loss += l.item()\n",
    "            test_acc += (y_pred.argmax(axis=1) == y).sum().item()\n",
    "            test_iters += 1\n",
    "            test_passed += len(X)\n",
    "        \n",
    "        print('ep: {}, taked: {:.3f}, train_loss: {}, train_acc: {}, test_loss: {}, test_acc: {}'.format(\n",
    "        ep, time.time() - start, train_loss / train_iters, train_acc / train_passed, \n",
    "        test_loss / test_iters, test_acc / test_passed)\n",
    "             )\n",
    "            "
   ]
  },
  {
   "cell_type": "code",
   "execution_count": 44,
   "metadata": {},
   "outputs": [
    {
     "name": "stdout",
     "output_type": "stream",
     "text": [
      "ep: 0, taked: 27.509, train_loss: 0.49582242306242597, train_acc: 0.8196666666666667, test_loss: 0.47002851627767084, test_acc: 0.8253\n",
      "ep: 1, taked: 26.712, train_loss: 0.3735350763544123, train_acc: 0.86125, test_loss: 0.46261726804077624, test_acc: 0.8284\n",
      "ep: 2, taked: 27.134, train_loss: 0.3417379951223414, train_acc: 0.8731166666666667, test_loss: 0.42383682560175656, test_acc: 0.8518\n",
      "ep: 3, taked: 27.088, train_loss: 0.3190451115369797, train_acc: 0.88165, test_loss: 0.42140161748975513, test_acc: 0.8552\n",
      "ep: 4, taked: 27.929, train_loss: 0.3018202029010083, train_acc: 0.8883, test_loss: 0.44944524988532064, test_acc: 0.8484\n",
      "ep: 5, taked: 27.686, train_loss: 0.28500760159593946, train_acc: 0.8940833333333333, test_loss: 0.7891166875138879, test_acc: 0.8631\n",
      "ep: 6, taked: 27.471, train_loss: 0.2725510811552088, train_acc: 0.8987166666666667, test_loss: 0.5847410719841719, test_acc: 0.8615\n",
      "ep: 7, taked: 28.607, train_loss: 0.26146716316963764, train_acc: 0.9033166666666667, test_loss: 2.0505405587609857, test_acc: 0.8658\n",
      "ep: 8, taked: 27.800, train_loss: 0.2583620871635193, train_acc: 0.9035166666666666, test_loss: 2.476702369330451, test_acc: 0.8687\n",
      "ep: 9, taked: 27.938, train_loss: 0.24448629579645523, train_acc: 0.9081666666666667, test_loss: 3.070748813636601, test_acc: 0.8698\n",
      "ep: 10, taked: 27.178, train_loss: 0.2337143232847782, train_acc: 0.9128166666666667, test_loss: 1.1261285125277936, test_acc: 0.8752\n",
      "ep: 11, taked: 27.331, train_loss: 0.23823225073357845, train_acc: 0.9103833333333333, test_loss: 3.628434787876904, test_acc: 0.868\n",
      "ep: 12, taked: 27.445, train_loss: 0.21841357505701958, train_acc: 0.9181166666666667, test_loss: 7.189946713298559, test_acc: 0.8803\n",
      "ep: 13, taked: 27.269, train_loss: 0.2040702319525658, train_acc: 0.9230333333333334, test_loss: 9.6881740023382, test_acc: 0.88\n",
      "ep: 14, taked: 27.287, train_loss: 0.19352112057361198, train_acc: 0.9271333333333334, test_loss: 7.814478245284408, test_acc: 0.8792\n",
      "ep: 15, taked: 27.388, train_loss: 0.18368532185224776, train_acc: 0.9300166666666667, test_loss: 2.5323267679661514, test_acc: 0.8727\n",
      "ep: 16, taked: 28.357, train_loss: 0.18010786654467278, train_acc: 0.9317333333333333, test_loss: 3.1478385160677136, test_acc: 0.8748\n",
      "ep: 17, taked: 27.251, train_loss: 0.17741508154158897, train_acc: 0.9326833333333333, test_loss: 4.467611726932228, test_acc: 0.8788\n",
      "ep: 18, taked: 27.288, train_loss: 0.16619834693822455, train_acc: 0.9366166666666667, test_loss: 5.532436490058899, test_acc: 0.8757\n",
      "ep: 19, taked: 27.479, train_loss: 0.2083970547990596, train_acc: 0.9210166666666667, test_loss: 18.932390374108216, test_acc: 0.8853\n"
     ]
    }
   ],
   "source": [
    "train_model()"
   ]
  }
 ],
 "metadata": {
  "kernelspec": {
   "display_name": "Python 3",
   "language": "python",
   "name": "python3"
  },
  "language_info": {
   "codemirror_mode": {
    "name": "ipython",
    "version": 3
   },
   "file_extension": ".py",
   "mimetype": "text/x-python",
   "name": "python",
   "nbconvert_exporter": "python",
   "pygments_lexer": "ipython3",
   "version": "3.7.4"
  }
 },
 "nbformat": 4,
 "nbformat_minor": 4
}
